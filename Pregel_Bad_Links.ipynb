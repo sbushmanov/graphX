{
 "cells": [
  {
   "cell_type": "code",
   "execution_count": 1,
   "id": "5b504c33",
   "metadata": {},
   "outputs": [
    {
     "name": "stdout",
     "output_type": "stream",
     "text": [
      "Types will be printed.\n",
      "Types will be printed.\n"
     ]
    }
   ],
   "source": [
    "%showtypes on "
   ]
  },
  {
   "cell_type": "code",
   "execution_count": 2,
   "id": "7df7db24",
   "metadata": {},
   "outputs": [],
   "source": [
    "import org.apache.spark.rdd.RDD\n",
    "import org.apache.spark.graphx._\n",
    "import scala.util.Random"
   ]
  },
  {
   "cell_type": "markdown",
   "id": "493b18c4",
   "metadata": {},
   "source": [
    "# Create link graph"
   ]
  },
  {
   "cell_type": "code",
   "execution_count": 3,
   "id": "84ddbe6e",
   "metadata": {},
   "outputs": [
    {
     "data": {
      "text/plain": [
       "arr: List[(Long, Long, Long)] = List((7,9,1), (0,5,1), (9,6,1), (8,3,2), (2,4,1), (2,0,1), (1,4,1), (9,1,1), (7,0,1), (0,2,0), (2,7,1), (8,1,0), (9,0,2), (2,6,1), (5,2,1), (9,4,0), (8,3,2), (4,7,2), (9,4,0), (1,5,0), (9,3,2), (3,5,0), (8,9,0), (1,2,2), (8,9,0), (7,3,0), (8,8,0), (5,9,0), (3,9,0), (6,3,0))\n",
       "rdd: org.apache.spark.rdd.RDD[org.apache.spark.graphx.Edge[Long]] = MapPartitionsRDD[1] at map at <console>:33\n"
      ]
     },
     "metadata": {},
     "output_type": "display_data"
    },
    {
     "data": {
      "text/plain": [
       "rdd: org.apache.spark.rdd.RDD[org.apache.spark.graphx.Edge[Long]] = MapPartitionsRDD[1] at map at <console>:33\n"
      ]
     },
     "execution_count": 3,
     "metadata": {},
     "output_type": "execute_result"
    }
   ],
   "source": [
    "val arr = List.fill(30)(\n",
    "    (Random.nextLong.abs % 10, Random.nextLong.abs % 10, Random.nextLong.abs % 3)\n",
    ")\n",
    "\n",
    "val rdd: RDD[Edge[Long]] = sc.parallelize(arr).map(e => Edge(e._1, e._2, e._3))"
   ]
  },
  {
   "cell_type": "code",
   "execution_count": 4,
   "id": "51729afd",
   "metadata": {},
   "outputs": [
    {
     "name": "stdout",
     "output_type": "stream",
     "text": [
      "((7,1.0),(9,1.0),1)\n",
      "((0,1.0),(5,1.0),1)\n",
      "((9,1.0),(6,1.0),1)\n"
     ]
    },
    {
     "data": {
      "text/plain": [
       "gr: org.apache.spark.graphx.Graph[Double,Long] = org.apache.spark.graphx.impl.GraphImpl@37aa270f\n"
      ]
     },
     "metadata": {},
     "output_type": "display_data"
    },
    {
     "data": {
      "text/plain": [
       "gr: org.apache.spark.graphx.Graph[Double,Long] = org.apache.spark.graphx.impl.GraphImpl@37aa270f\n"
      ]
     },
     "execution_count": 4,
     "metadata": {},
     "output_type": "execute_result"
    }
   ],
   "source": [
    "val gr: Graph[Double, Long] = Graph.fromEdges(rdd, 1.0)\n",
    "\n",
    "gr.triplets.take(3).foreach(println)"
   ]
  },
  {
   "cell_type": "code",
   "execution_count": 5,
   "id": "ea69115e",
   "metadata": {},
   "outputs": [
    {
     "name": "stdout",
     "output_type": "stream",
     "text": [
      "(0,(0,Set()))\n",
      "(1,(1,Set()))\n",
      "(2,(2,Set()))\n"
     ]
    },
    {
     "data": {
      "text/plain": [
       "graph: org.apache.spark.graphx.Graph[(org.apache.spark.graphx.VertexId, scala.collection.immutable.Set[Long]),Long] = org.apache.spark.graphx.impl.GraphImpl@6f60c65b\n"
      ]
     },
     "metadata": {},
     "output_type": "display_data"
    },
    {
     "data": {
      "text/plain": [
       "graph: org.apache.spark.graphx.Graph[(org.apache.spark.graphx.VertexId, scala.collection.immutable.Set[Long]),Long] = org.apache.spark.graphx.impl.GraphImpl@6f60c65b\n"
      ]
     },
     "execution_count": 5,
     "metadata": {},
     "output_type": "execute_result"
    }
   ],
   "source": [
    "val graph = Graph(gr.vertices, gr.edges ++ gr.edges.reverse).\n",
    "    mapVertices{ (vid, attr) => (vid, Set[Long]()) }\n",
    "\n",
    "graph.vertices.take(3).foreach(println)"
   ]
  },
  {
   "cell_type": "markdown",
   "id": "4dc9fa04",
   "metadata": {},
   "source": [
    "# Define vprog, sendMsg, sendMsg"
   ]
  },
  {
   "cell_type": "code",
   "execution_count": 6,
   "id": "38ca24c7",
   "metadata": {},
   "outputs": [
    {
     "data": {
      "text/plain": [
       "defined type alias M\n",
       "defined type alias A\n",
       "initMsg: M = (9,Set())\n"
      ]
     },
     "metadata": {},
     "output_type": "display_data"
    },
    {
     "data": {
      "text/plain": [
       "initMsg: M = (9,Set())\n"
      ]
     },
     "execution_count": 6,
     "metadata": {},
     "output_type": "execute_result"
    }
   ],
   "source": [
    "type M = (Long, Set[Long])\n",
    "type A = (Long, Set[Long])\n",
    "\n",
    "val initMsg: M = (9L, Set[Long]())"
   ]
  },
  {
   "cell_type": "code",
   "execution_count": 7,
   "id": "3abea607",
   "metadata": {},
   "outputs": [
    {
     "data": {
      "text/plain": [
       "vprog: (vid: org.apache.spark.graphx.VertexId, attr: A, inMsg: M)A\n",
       "sendMsg: (e: org.apache.spark.graphx.EdgeTriplet[A,Long])Iterator[(org.apache.spark.graphx.VertexId, M)]\n",
       "mergeMsg: (a: M, b: M)M\n"
      ]
     },
     "metadata": {},
     "output_type": "display_data"
    }
   ],
   "source": [
    "def vprog(vid: VertexId, attr: A, inMsg: M): A = \n",
    "    ( attr._1 min inMsg._1, attr._2 ++ inMsg._2)\n",
    "\n",
    "def sendMsg(e: EdgeTriplet[A, Long]): Iterator[(VertexId, M)] = {\n",
    "    if (e.srcAttr._1 == e.dstAttr._1 && e.dstAttr._2.contains(e.attr) ) Iterator.empty\n",
    "    else Iterator((e.dstId, (e.srcAttr._1, Set(e.attr) ++ e.srcAttr._2 )))\n",
    "}\n",
    "\n",
    "// def sendMsg(e: EdgeTriplet[A, Long]): Iterator[(VertexId, M)] = {\n",
    "//     Iterator((e.dstId, (e.srcAttr._1, Set(e.attr) ++ e.srcAttr._2)))\n",
    "// }\n",
    "\n",
    "def mergeMsg(a: M, b: M): M = \n",
    "    (a._1 min b._1, a._2 ++ b._2)"
   ]
  },
  {
   "cell_type": "markdown",
   "id": "d73069f0",
   "metadata": {},
   "source": [
    "# Pregel"
   ]
  },
  {
   "cell_type": "code",
   "execution_count": 8,
   "id": "85192f63",
   "metadata": {},
   "outputs": [
    {
     "name": "stdout",
     "output_type": "stream",
     "text": [
      "(0,(0,Set(1, 0, 2)))\n",
      "(1,(0,Set(1, 0, 2)))\n",
      "(2,(0,Set(1, 0, 2)))\n"
     ]
    }
   ],
   "source": [
    "graph.\n",
    "    pregel(initMsg, 10)(vprog, sendMsg, mergeMsg).\n",
    "    vertices.\n",
    "    take(3).\n",
    "    foreach(println)"
   ]
  }
 ],
 "metadata": {
  "kernelspec": {
   "display_name": "Apache Toree - Scala",
   "language": "scala",
   "name": "apache_toree_scala"
  },
  "language_info": {
   "codemirror_mode": "text/x-scala",
   "file_extension": ".scala",
   "mimetype": "text/x-scala",
   "name": "scala",
   "pygments_lexer": "scala",
   "version": "2.12.15"
  }
 },
 "nbformat": 4,
 "nbformat_minor": 5
}
