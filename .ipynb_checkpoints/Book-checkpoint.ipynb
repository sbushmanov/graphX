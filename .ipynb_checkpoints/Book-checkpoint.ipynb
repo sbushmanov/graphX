{
 "cells": [
  {
   "cell_type": "markdown",
   "id": "f1688972",
   "metadata": {},
   "source": [
    "# Chapter 2"
   ]
  },
  {
   "cell_type": "code",
   "execution_count": 1,
   "id": "8b10bc7a",
   "metadata": {},
   "outputs": [
    {
     "name": "stdout",
     "output_type": "stream",
     "text": [
      "Types will be printed.\n",
      "Types will be printed.\n",
      "Console output WILL be shown.\n",
      "Console output WILL be shown.\n"
     ]
    }
   ],
   "source": [
    "%showtypes on\n",
    "%showoutput on"
   ]
  },
  {
   "cell_type": "markdown",
   "id": "bc024929",
   "metadata": {},
   "source": [
    "## Load graph\n",
    "\n",
    "- GraphLoader.edgeListFile"
   ]
  },
  {
   "cell_type": "code",
   "execution_count": 2,
   "id": "76d68c8c",
   "metadata": {},
   "outputs": [],
   "source": [
    "import scala.sys.process._"
   ]
  },
  {
   "cell_type": "code",
   "execution_count": 3,
   "id": "29227769",
   "metadata": {},
   "outputs": [
    {
     "name": "stdout",
     "output_type": "stream",
     "text": [
      "# Directed graph (each unordered pair of nodes is saved once): Cit-HepTh.txt \n",
      "# Paper citation network of Arxiv High Energy Physics Theory category\n",
      "# Nodes: 27770 Edges: 352807\n",
      "# FromNodeId\tToNodeId\n",
      "1001\t9304045\n",
      "1001\t9308122\n",
      "1001\t9309097\n",
      "1001\t9311042\n",
      "1001\t9401139\n",
      "1001\t9404151\n"
     ]
    },
    {
     "data": {
      "text/plain": [
       "command: String = head -n10 /home/sergey/Spark_GraphX/cit-HepTh.txt\n"
      ]
     },
     "metadata": {},
     "output_type": "display_data"
    },
    {
     "data": {
      "text/plain": [
       "command: String = head -n10 /home/sergey/Spark_GraphX/cit-HepTh.txt\n"
      ]
     },
     "execution_count": 3,
     "metadata": {},
     "output_type": "execute_result"
    }
   ],
   "source": [
    "val command = (\"head -n10 /home/sergey/Spark_GraphX/cit-HepTh.txt\")\n",
    "\n",
    "command.lineStream.foreach(println)"
   ]
  },
  {
   "cell_type": "code",
   "execution_count": 4,
   "id": "d64e10a9",
   "metadata": {},
   "outputs": [
    {
     "name": "stdout",
     "output_type": "stream",
     "text": [
      "# Directed graph (each unordered pair of nodes is saved once): Cit-HepTh.txt \r\n",
      "# Paper citation network of Arxiv High Energy Physics Theory category\r\n",
      "# Nodes: 27770 Edges: 352807\r\n",
      "# FromNodeId\tToNodeId\r\n",
      "1001\t9304045\r\n",
      "1001\t9308122\r\n",
      "1001\t9309097\r\n",
      "1001\t9311042\r\n",
      "1001\t9401139\r\n",
      "1001\t9404151\r\n"
     ]
    },
    {
     "data": {
      "text/plain": [
       "warning: one feature warning; for details, enable `:setting -feature' or `:replay -feature'\n"
      ]
     },
     "metadata": {},
     "output_type": "display_data"
    },
    {
     "data": {
      "text/plain": [
       "Int = 0\n"
      ]
     },
     "execution_count": 4,
     "metadata": {},
     "output_type": "execute_result"
    }
   ],
   "source": [
    "command !"
   ]
  },
  {
   "cell_type": "code",
   "execution_count": 5,
   "id": "f648ae9a",
   "metadata": {},
   "outputs": [],
   "source": [
    "import org.apache.spark.graphx._"
   ]
  },
  {
   "cell_type": "code",
   "execution_count": 6,
   "id": "f015a000",
   "metadata": {},
   "outputs": [
    {
     "data": {
      "text/plain": [
       "graph: org.apache.spark.graphx.Graph[Int,Int] = org.apache.spark.graphx.impl.GraphImpl@5c048b43\n"
      ]
     },
     "metadata": {},
     "output_type": "display_data"
    },
    {
     "data": {
      "text/plain": [
       "graph: org.apache.spark.graphx.Graph[Int,Int] = org.apache.spark.graphx.impl.GraphImpl@5c048b43\n"
      ]
     },
     "execution_count": 6,
     "metadata": {},
     "output_type": "execute_result"
    }
   ],
   "source": [
    "val graph = GraphLoader.edgeListFile(sc, \"file:///home/sergey/Spark_GraphX/cit-HepTh.txt\")"
   ]
  },
  {
   "cell_type": "markdown",
   "id": "6e4ba171",
   "metadata": {},
   "source": [
    "# Graph methods\n",
    "\n",
    "- `graph.vertices`\n",
    "- `graph.edges`\n",
    "- `graph.inDegrees`\n",
    "- `graph.outDegrees`\n",
    "- `graph.numEdges`\n",
    "- `graph.numVertices`"
   ]
  },
  {
   "cell_type": "code",
   "execution_count": 7,
   "id": "09ae0a35",
   "metadata": {},
   "outputs": [
    {
     "data": {
      "text/plain": [
       "Array[(org.apache.spark.graphx.VertexId, Int)] = Array((9405166,1), (9312172,1), (108150,1))\n"
      ]
     },
     "execution_count": 7,
     "metadata": {},
     "output_type": "execute_result"
    }
   ],
   "source": [
    "graph.vertices.take(3)"
   ]
  },
  {
   "cell_type": "code",
   "execution_count": 8,
   "id": "d3bdda1f",
   "metadata": {},
   "outputs": [
    {
     "data": {
      "text/plain": [
       "Array[org.apache.spark.graphx.Edge[Int]] = Array(Edge(1001,9304045,1), Edge(1001,9308122,1), Edge(1001,9309097,1))\n"
      ]
     },
     "execution_count": 8,
     "metadata": {},
     "output_type": "execute_result"
    }
   ],
   "source": [
    "graph.edges.take(3)"
   ]
  },
  {
   "cell_type": "code",
   "execution_count": null,
   "id": "ff357dbf",
   "metadata": {},
   "outputs": [],
   "source": [
    "graph.inDegrees.takeOrdered(1)(Ordering[Int].reverse.on(_._2))"
   ]
  },
  {
   "cell_type": "code",
   "execution_count": null,
   "id": "288313ba",
   "metadata": {},
   "outputs": [],
   "source": [
    "graph.inDegrees.reduce((a,b) => if (a._2 > b._2) a else b)"
   ]
  },
  {
   "cell_type": "code",
   "execution_count": null,
   "id": "125823c0",
   "metadata": {},
   "outputs": [],
   "source": [
    "graph.inDegrees.reduce{ case (a,b) => if (a._2 > b._2) a else b}"
   ]
  },
  {
   "cell_type": "code",
   "execution_count": null,
   "id": "21ee3b09",
   "metadata": {},
   "outputs": [],
   "source": [
    "graph.edges.flatMap{ case el => Seq(el.srcId, el.dstId) }.max"
   ]
  },
  {
   "cell_type": "code",
   "execution_count": null,
   "id": "35e9196b",
   "metadata": {},
   "outputs": [],
   "source": [
    "graph.edges.map{case el => if (el.srcId > el.dstId) el.srcId else el.dstId}.max"
   ]
  },
  {
   "cell_type": "code",
   "execution_count": null,
   "id": "e2486704",
   "metadata": {},
   "outputs": [],
   "source": [
    "graph.edges.fold"
   ]
  },
  {
   "cell_type": "code",
   "execution_count": null,
   "id": "1fe919eb",
   "metadata": {},
   "outputs": [],
   "source": [
    "val pageRank = graph.pageRank(.001).vertices\n",
    "pageRank.take(10)"
   ]
  },
  {
   "cell_type": "code",
   "execution_count": null,
   "id": "00c7dd46",
   "metadata": {},
   "outputs": [],
   "source": [
    "pageRank.takeOrdered(1)(Ordering[Double].on(- _._2))"
   ]
  },
  {
   "cell_type": "markdown",
   "id": "239267f2",
   "metadata": {},
   "source": [
    "# Chapter 3"
   ]
  },
  {
   "cell_type": "markdown",
   "id": "3490bc08",
   "metadata": {},
   "source": [
    "## Closures"
   ]
  },
  {
   "cell_type": "code",
   "execution_count": null,
   "id": "2cf72329",
   "metadata": {},
   "outputs": [],
   "source": [
    "var f: Int => Int = null"
   ]
  },
  {
   "cell_type": "code",
   "execution_count": null,
   "id": "80851640",
   "metadata": {},
   "outputs": [],
   "source": [
    "def doStuff() = {\n",
    "    var n = 3\n",
    "    def addn(m: Int) = m + n\n",
    "    f = addn\n",
    "    n = n + 1\n",
    "}"
   ]
  },
  {
   "cell_type": "code",
   "execution_count": null,
   "id": "439e9bd7",
   "metadata": {},
   "outputs": [],
   "source": [
    "doStuff"
   ]
  },
  {
   "cell_type": "code",
   "execution_count": null,
   "id": "7bdda899",
   "metadata": {},
   "outputs": [],
   "source": [
    "f(2)"
   ]
  },
  {
   "cell_type": "code",
   "execution_count": null,
   "id": "9dc8a4ad",
   "metadata": {},
   "outputs": [],
   "source": [
    "doStuff"
   ]
  },
  {
   "cell_type": "code",
   "execution_count": null,
   "id": "8832067b",
   "metadata": {},
   "outputs": [],
   "source": [
    "f(2)"
   ]
  },
  {
   "cell_type": "code",
   "execution_count": null,
   "id": "a3e30b7b",
   "metadata": {},
   "outputs": [],
   "source": [
    "def doStuff2() = {\n",
    "    var n = 3\n",
    "    val addn: Int => Int = m + n\n",
    "    f = addn\n",
    "    n = n + 1\n",
    "}"
   ]
  },
  {
   "cell_type": "code",
   "execution_count": null,
   "id": "9173c4ba",
   "metadata": {},
   "outputs": [],
   "source": [
    "doStuff2"
   ]
  },
  {
   "cell_type": "code",
   "execution_count": null,
   "id": "575136b6",
   "metadata": {},
   "outputs": [],
   "source": [
    "f(2)"
   ]
  },
  {
   "cell_type": "markdown",
   "id": "d5871658",
   "metadata": {},
   "source": [
    "## Class definitions"
   ]
  },
  {
   "cell_type": "markdown",
   "id": "ced5b90d",
   "metadata": {},
   "source": [
    "#### W/o property keyword\n",
    "\n",
    "No `getter`/`setter` field created in the body "
   ]
  },
  {
   "cell_type": "code",
   "execution_count": null,
   "id": "781400a9",
   "metadata": {},
   "outputs": [],
   "source": [
    "class Cat(name: String)\n",
    "val cat = new Cat(\"pretty\")\n",
    "cat.name"
   ]
  },
  {
   "cell_type": "markdown",
   "id": "f8aafdcc",
   "metadata": {},
   "source": [
    "### With property keyword\n",
    "\n",
    "`getter` field is created"
   ]
  },
  {
   "cell_type": "code",
   "execution_count": null,
   "id": "b89fb9a4",
   "metadata": {},
   "outputs": [],
   "source": [
    "class Cat2(val name: String)\n",
    "val cat2 = new Cat2(\"pretty\")\n",
    "cat2.name"
   ]
  },
  {
   "cell_type": "markdown",
   "id": "3f9d0514",
   "metadata": {},
   "source": [
    "### Case class\n",
    "\n",
    "`getter`/`setter` created by default"
   ]
  },
  {
   "cell_type": "code",
   "execution_count": null,
   "id": "a26b1f12",
   "metadata": {},
   "outputs": [],
   "source": [
    "case class Cat3(name: String)\n",
    "val cat3 = Cat3(\"pretty\")\n",
    "cat3.name"
   ]
  },
  {
   "cell_type": "markdown",
   "id": "57f518a3",
   "metadata": {},
   "source": [
    "# Chapter 4"
   ]
  },
  {
   "cell_type": "code",
   "execution_count": 1,
   "id": "c0b6f9de",
   "metadata": {},
   "outputs": [],
   "source": [
    "import org.apache.spark.graphx._\n",
    "\n",
    "val verts = Array(\n",
    "    (1L, \"Ann\"), \n",
    "    (2L, \"Bill\"),\n",
    "    (3L, \"Charles\"), \n",
    "    (4L, \"Diane\"), \n",
    "    (5L, \"Went to gym this morning\")\n",
    ")\n",
    "\n",
    "val edges = Array(\n",
    "    Edge(1L, 2L, \"is-friends-with\"),\n",
    "    Edge(2L, 3L, \"is-friends-with\"), \n",
    "    Edge(3L, 4L, \"is-friends-with\"),\n",
    "    Edge(4L, 5L, \"Likes-status\"),\n",
    "    Edge(3L, 5L, \"Wrote-status\")\n",
    ")\n",
    "\n",
    "val myVertices = sc.makeRDD(verts)\n",
    "val myEdges = sc.makeRDD(edges)\n",
    "val myGraph = Graph(myVertices, myEdges)"
   ]
  },
  {
   "cell_type": "code",
   "execution_count": 15,
   "id": "16bc9763",
   "metadata": {},
   "outputs": [
    {
     "name": "stdout",
     "output_type": "stream",
     "text": [
      "(1,Ann)\n",
      "(2,Bill)\n",
      "(3,Charles)\n",
      "(4,Diane)\n",
      "(5,Went to gym this morning)\n"
     ]
    }
   ],
   "source": [
    "myGraph.vertices.take(10).foreach(println)"
   ]
  },
  {
   "cell_type": "code",
   "execution_count": 16,
   "id": "bc501968",
   "metadata": {},
   "outputs": [
    {
     "name": "stdout",
     "output_type": "stream",
     "text": [
      "Edge(1,2,is-friends-with)\n",
      "Edge(2,3,is-friends-with)\n",
      "Edge(3,4,is-friends-with)\n",
      "Edge(4,5,Likes-status)\n",
      "Edge(3,5,Wrote-status)\n"
     ]
    }
   ],
   "source": [
    "myGraph.edges.take(10).foreach(println)"
   ]
  },
  {
   "cell_type": "code",
   "execution_count": 59,
   "id": "6e6f79ff",
   "metadata": {},
   "outputs": [
    {
     "name": "stdout",
     "output_type": "stream",
     "text": [
      "(1,2,is-friends-with)\n",
      "(2,3,is-friends-with)\n",
      "(3,4,is-friends-with)\n",
      "(4,5,Likes-status)\n",
      "(3,5,Wrote-status)\n"
     ]
    }
   ],
   "source": [
    "myGraph.edges.map(t => (t.srcId, t.dstId, t.attr)).collect.foreach(println)"
   ]
  },
  {
   "cell_type": "code",
   "execution_count": 52,
   "id": "b4c88112",
   "metadata": {},
   "outputs": [
    {
     "data": {
      "text/plain": [
       "MapPartitionsRDD[34] at mapPartitions at GraphImpl.scala:47"
      ]
     },
     "execution_count": 52,
     "metadata": {},
     "output_type": "execute_result"
    }
   ],
   "source": [
    "myGraph.triplets"
   ]
  },
  {
   "cell_type": "code",
   "execution_count": 17,
   "id": "bec11024",
   "metadata": {},
   "outputs": [
    {
     "name": "stdout",
     "output_type": "stream",
     "text": [
      "((1,Ann),(2,Bill),is-friends-with)\n",
      "((2,Bill),(3,Charles),is-friends-with)\n",
      "((3,Charles),(4,Diane),is-friends-with)\n",
      "((4,Diane),(5,Went to gym this morning),Likes-status)\n",
      "((3,Charles),(5,Went to gym this morning),Wrote-status)\n"
     ]
    }
   ],
   "source": [
    "myGraph.triplets.take(10).foreach(println)"
   ]
  },
  {
   "cell_type": "code",
   "execution_count": 39,
   "id": "290b3b42",
   "metadata": {},
   "outputs": [
    {
     "name": "stdout",
     "output_type": "stream",
     "text": [
      "((1,Ann),(2,Bill),is-friends-with)\n",
      "((2,Bill),(3,Charles),is-friends-with)\n",
      "((3,Charles),(4,Diane),is-friends-with)\n"
     ]
    }
   ],
   "source": [
    "myGraph.\n",
    "    triplets.\n",
    "    takeOrdered(3)(Ordering[Long].on(t => t.dstId)).\n",
    "    foreach(println)"
   ]
  },
  {
   "cell_type": "code",
   "execution_count": 44,
   "id": "704dd22b",
   "metadata": {},
   "outputs": [
    {
     "name": "stdout",
     "output_type": "stream",
     "text": [
      "((1,Ann),(2,Bill),is-friends-with)\n",
      "((2,Bill),(3,Charles),is-friends-with)\n",
      "((3,Charles),(4,Diane),is-friends-with)\n"
     ]
    }
   ],
   "source": [
    "myGraph.\n",
    "    triplets.\n",
    "    takeOrdered(3)(Ordering[Long].on(t => t.dstId)).\n",
    "    foreach(println)"
   ]
  },
  {
   "cell_type": "code",
   "execution_count": 45,
   "id": "e9d9c307",
   "metadata": {},
   "outputs": [
    {
     "ename": "Unknown Error",
     "evalue": "<console>:30: error: value on is not a member of object scala.math.Ordering\n           takeOrdered(3)(Ordering.on(t => t.dstId)).\n                                   ^\n",
     "output_type": "error",
     "traceback": []
    }
   ],
   "source": [
    "myGraph.\n",
    "    triplets.\n",
    "    takeOrdered(3)(Ordering.on(t => t.dstId)).\n",
    "    foreach(println)"
   ]
  },
  {
   "cell_type": "code",
   "execution_count": 42,
   "id": "92e2b91f",
   "metadata": {},
   "outputs": [
    {
     "name": "stdout",
     "output_type": "stream",
     "text": [
      "((1,Ann),(2,Bill),is-friends-with)\n",
      "((2,Bill),(3,Charles),is-friends-with)\n",
      "((3,Charles),(4,Diane),is-friends-with)\n"
     ]
    }
   ],
   "source": [
    "myGraph.\n",
    "    triplets.\n",
    "    takeOrdered(3)(Ordering.by(t => t.dstId)).\n",
    "    foreach(println)"
   ]
  },
  {
   "cell_type": "code",
   "execution_count": 70,
   "id": "4e7511fc",
   "metadata": {},
   "outputs": [
    {
     "name": "stdout",
     "output_type": "stream",
     "text": [
      "((1,Ann),(2,Bill),is-friends-with)\n",
      "((2,Bill),(3,Charles),is-friends-with)\n",
      "((3,Charles),(4,Diane),is-friends-with)\n"
     ]
    }
   ],
   "source": [
    "myGraph.\n",
    "    triplets.\n",
    "    takeOrdered(3)(Ordering.by{ _.dstId}).\n",
    "    foreach(println)"
   ]
  }
 ],
 "metadata": {
  "kernelspec": {
   "display_name": "Apache Toree - Scala",
   "language": "scala",
   "name": "apache_toree_scala"
  },
  "language_info": {
   "codemirror_mode": "text/x-scala",
   "file_extension": ".scala",
   "mimetype": "text/x-scala",
   "name": "scala",
   "pygments_lexer": "scala",
   "version": "2.12.15"
  }
 },
 "nbformat": 4,
 "nbformat_minor": 5
}
