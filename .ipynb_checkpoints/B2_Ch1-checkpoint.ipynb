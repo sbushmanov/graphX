{
 "cells": [
  {
   "cell_type": "code",
   "execution_count": 5,
   "id": "221a7aa2",
   "metadata": {},
   "outputs": [],
   "source": [
    "import org.apache.spark.SparkContext\n",
    "import org.apache.spark.SparkContext._\n",
    "import org.apache.spark.SparkConf\n",
    "import org.apache.spark.rdd.RDD\n",
    "import org.apache.spark.graphx._\n",
    "import scala.sys.process._"
   ]
  },
  {
   "cell_type": "code",
   "execution_count": 9,
   "id": "c0270053",
   "metadata": {},
   "outputs": [
    {
     "name": "stdout",
     "output_type": "stream",
     "text": [
      "1,Alice,20\n",
      "2,Bob,18\n",
      "3,Charlie,30\n"
     ]
    },
    {
     "data": {
      "text/plain": [
       "warning: one feature warning; for details, enable `:setting -feature' or `:replay -feature'\n"
      ]
     },
     "metadata": {},
     "output_type": "display_data"
    },
    {
     "data": {
      "text/plain": [
       "0"
      ]
     },
     "execution_count": 9,
     "metadata": {},
     "output_type": "execute_result"
    }
   ],
   "source": [
    "\"head -n3 data/people.csv\" !"
   ]
  },
  {
   "cell_type": "code",
   "execution_count": 10,
   "id": "487df50d",
   "metadata": {},
   "outputs": [
    {
     "name": "stdout",
     "output_type": "stream",
     "text": [
      "1,2,friend\n",
      "1,3,sister\n",
      "3,2,boss\n"
     ]
    },
    {
     "data": {
      "text/plain": [
       "warning: one feature warning; for details, enable `:setting -feature' or `:replay -feature'\n"
      ]
     },
     "metadata": {},
     "output_type": "display_data"
    },
    {
     "data": {
      "text/plain": [
       "0"
      ]
     },
     "execution_count": 10,
     "metadata": {},
     "output_type": "execute_result"
    }
   ],
   "source": [
    "\"head -n3 data/links.csv\" !"
   ]
  },
  {
   "cell_type": "code",
   "execution_count": 15,
   "id": "70b5fa14",
   "metadata": {},
   "outputs": [
    {
     "data": {
      "text/plain": [
       "lastException = null\n",
       "people = file:///home/sergey/Spark_GraphX/data/people.csv MapPartitionsRDD[20] at textFile at <console>:50\n",
       "links = file:///home/sergey/Spark_GraphX/data/links.csv MapPartitionsRDD[22] at textFile at <console>:51\n"
      ]
     },
     "metadata": {},
     "output_type": "display_data"
    },
    {
     "data": {
      "text/plain": [
       "file:///home/sergey/Spark_GraphX/data/links.csv MapPartitionsRDD[22] at textFile at <console>:51"
      ]
     },
     "execution_count": 15,
     "metadata": {},
     "output_type": "execute_result"
    }
   ],
   "source": [
    "val people = sc.textFile(\"file:///home/sergey/Spark_GraphX/data/people.csv\")\n",
    "val links = sc.textFile(\"file:///home/sergey/Spark_GraphX/data/links.csv\")"
   ]
  },
  {
   "cell_type": "code",
   "execution_count": 2,
   "id": "83ef222c",
   "metadata": {},
   "outputs": [
    {
     "data": {
      "text/plain": [
       "defined class Person\n",
       "defined type alias Connexion\n"
      ]
     },
     "metadata": {},
     "output_type": "display_data"
    }
   ],
   "source": [
    "case class Person(name: String, age: Int)\n",
    "type Connexion = String"
   ]
  },
  {
   "cell_type": "code",
   "execution_count": 16,
   "id": "f2e9f95d",
   "metadata": {},
   "outputs": [
    {
     "data": {
      "text/plain": [
       "peopleRDD = MapPartitionsRDD[23] at map at <console>:56\n",
       "linksRDD = MapPartitionsRDD[24] at map at <console>:61\n",
       "tinySocial = org.apache.spark.graphx.impl.GraphImpl@49bf8fef\n"
      ]
     },
     "metadata": {},
     "output_type": "display_data"
    },
    {
     "data": {
      "text/plain": [
       "org.apache.spark.graphx.impl.GraphImpl@49bf8fef"
      ]
     },
     "execution_count": 16,
     "metadata": {},
     "output_type": "execute_result"
    }
   ],
   "source": [
    "val peopleRDD: RDD[(VertexId, Person)] = people.map{ line => \n",
    "    val row = line.split(\",\")\n",
    "    (row(0).toInt, Person(row(1), row(2).toInt))\n",
    "}\n",
    "\n",
    "val linksRDD: RDD[Edge[Connexion]] = links.map{line => \n",
    "    val row = line.split(\",\")\n",
    "    Edge(row(0).toInt, row(1).toInt, row(2))\n",
    "}\n",
    "\n",
    "val tinySocial: Graph[Person, Connexion] = Graph(peopleRDD, linksRDD)\n",
    "\n",
    "tinySocial.cache()"
   ]
  },
  {
   "cell_type": "code",
   "execution_count": 17,
   "id": "fb7e57b1",
   "metadata": {},
   "outputs": [
    {
     "data": {
      "text/plain": [
       "Array((4,Person(Dave,25)), (6,Person(Faith,21)), (8,Person(Harvey,47)), (2,Person(Bob,18)), (1,Person(Alice,20)), (3,Person(Charlie,30)), (7,Person(George,34)), (9,Person(Ivy,21)), (5,Person(Eve,30)))"
      ]
     },
     "execution_count": 17,
     "metadata": {},
     "output_type": "execute_result"
    }
   ],
   "source": [
    "tinySocial.vertices.collect()"
   ]
  },
  {
   "cell_type": "code",
   "execution_count": 18,
   "id": "2dd1e913",
   "metadata": {},
   "outputs": [
    {
     "data": {
      "text/plain": [
       "Array(Edge(1,2,friend), Edge(1,3,sister), Edge(2,4,brother), Edge(3,2,boss), Edge(4,5,client), Edge(1,9,friend), Edge(6,7,cousin), Edge(7,9,coworker), Edge(8,9,father))"
      ]
     },
     "execution_count": 18,
     "metadata": {},
     "output_type": "execute_result"
    }
   ],
   "source": [
    "tinySocial.edges.collect()"
   ]
  },
  {
   "cell_type": "code",
   "execution_count": 19,
   "id": "e82b69d6",
   "metadata": {},
   "outputs": [
    {
     "data": {
      "text/plain": [
       "profLinks = List(coworker, boss, employee, client, supplier)\n"
      ]
     },
     "metadata": {},
     "output_type": "display_data"
    },
    {
     "data": {
      "text/plain": [
       "List(coworker, boss, employee, client, supplier)"
      ]
     },
     "execution_count": 19,
     "metadata": {},
     "output_type": "execute_result"
    }
   ],
   "source": [
    "val profLinks: List[Connexion] = List(\"coworker\", \"boss\", \"employee\",\"client\", \"supplier\")"
   ]
  },
  {
   "cell_type": "code",
   "execution_count": 20,
   "id": "a0df74a5",
   "metadata": {},
   "outputs": [
    {
     "ename": "Unknown Error",
     "evalue": "<console>:53: error: missing parameter type for expanded function ((x$1: <error>) => x$1.attr)\n           subgraph(profLinks.contains(_.attr)).\n                                       ^\n<console>:53: error: type mismatch;\n found   : Boolean\n required: org.apache.spark.graphx.EdgeTriplet[Person,Connexion] => Boolean\n    (which expands to)  org.apache.spark.graphx.EdgeTriplet[Person,String] => Boolean\n           subgraph(profLinks.contains(_.attr)).\n                                      ^\n",
     "output_type": "error",
     "traceback": []
    }
   ],
   "source": [
    "tinySocial.\n",
    "    subgraph(profLinks.contains(_.attr)).\n",
    "    triplets.\n",
    "    foreach(t => println(t.srcAttr.name + \" is a \" + t.attr + \" of \" + t.dstAttr.name))"
   ]
  },
  {
   "cell_type": "code",
   "execution_count": null,
   "id": "5464c997",
   "metadata": {},
   "outputs": [],
   "source": [
    "\n",
    "\n",
    "\n",
    "\t\t// Create the social graph of people\n",
    "\t\t\n",
    "\t\ttinySocial.cache()\n",
    "\t\t\n",
    "\t\t\n",
    "\n",
    "\t\t// Extract links between coworkers and print their professional relationship\n",
    "\t\t\n",
    "\t\t"
   ]
  }
 ],
 "metadata": {
  "kernelspec": {
   "display_name": "Apache Toree - Scala",
   "language": "scala",
   "name": "apache_toree_scala"
  },
  "language_info": {
   "codemirror_mode": "text/x-scala",
   "file_extension": ".scala",
   "mimetype": "text/x-scala",
   "name": "scala",
   "pygments_lexer": "scala",
   "version": "2.12.15"
  }
 },
 "nbformat": 4,
 "nbformat_minor": 5
}
