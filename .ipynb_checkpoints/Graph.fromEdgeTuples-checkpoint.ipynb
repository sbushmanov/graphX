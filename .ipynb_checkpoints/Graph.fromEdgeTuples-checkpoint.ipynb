{
 "cells": [
  {
   "cell_type": "code",
   "execution_count": 1,
   "id": "d02828d7",
   "metadata": {},
   "outputs": [
    {
     "data": {
      "text/plain": [
       "3.3.2"
      ]
     },
     "execution_count": 1,
     "metadata": {},
     "output_type": "execute_result"
    }
   ],
   "source": [
    "import org.apache.spark.rdd.RDD\n",
    "import org.apache.spark.graphx._\n",
    "import scala.util.Random\n",
    "\n",
    "spark.version"
   ]
  },
  {
   "cell_type": "code",
   "execution_count": 2,
   "id": "b488e3c8",
   "metadata": {},
   "outputs": [
    {
     "name": "stdout",
     "output_type": "stream",
     "text": [
      "root\n",
      " |-- id_subject: long (nullable = false)\n",
      " |-- id: long (nullable = false)\n",
      "\n"
     ]
    },
    {
     "data": {
      "text/plain": [
       "arr = List((6,4), (1,6), (1,8), (3,7), (5,3), (4,4), (8,5), (8,5), (7,4), (7,8))\n",
       "df = [id_subject: bigint, id: bigint]\n"
      ]
     },
     "metadata": {},
     "output_type": "display_data"
    },
    {
     "data": {
      "text/plain": [
       "[id_subject: bigint, id: bigint]"
      ]
     },
     "execution_count": 2,
     "metadata": {},
     "output_type": "execute_result"
    }
   ],
   "source": [
    "val arr = Seq.fill(10){\n",
    "    ((Random.nextLong % 10).abs, (Random.nextLong % 10).abs)\n",
    "}\n",
    "\n",
    "val df = arr.toDF(\"id_subject\", \"id\")\n",
    "\n",
    "df.printSchema"
   ]
  },
  {
   "cell_type": "code",
   "execution_count": 3,
   "id": "e262343f",
   "metadata": {},
   "outputs": [
    {
     "data": {
      "text/plain": [
       "rdd = MapPartitionsRDD[5] at map at <console>:29\n",
       "graph = org.apache.spark.graphx.impl.GraphImpl@16d3a32d\n"
      ]
     },
     "metadata": {},
     "output_type": "display_data"
    },
    {
     "data": {
      "text/plain": [
       "org.apache.spark.graphx.impl.GraphImpl@16d3a32d"
      ]
     },
     "execution_count": 3,
     "metadata": {},
     "output_type": "execute_result"
    }
   ],
   "source": [
    "val rdd: RDD[(VertexId, VertexId)] = df.rdd.map{ row =>\n",
    "    (row.getAs[Long](\"id_subject\"), row.getAs[Long](\"id\"))\n",
    "}\n",
    "\n",
    "val graph: Graph[String, Int] = Graph.fromEdgeTuples(rdd, \"\")"
   ]
  },
  {
   "cell_type": "code",
   "execution_count": 4,
   "id": "fc9b109a",
   "metadata": {},
   "outputs": [
    {
     "name": "stdout",
     "output_type": "stream",
     "text": [
      "+----------+---+\n",
      "|id_subject| id|\n",
      "+----------+---+\n",
      "|         1|  1|\n",
      "|         3|  1|\n",
      "|         4|  1|\n",
      "|         5|  1|\n",
      "|         6|  1|\n",
      "+----------+---+\n",
      "only showing top 5 rows\n",
      "\n"
     ]
    },
    {
     "data": {
      "text/plain": [
       "cc = [id_subject: bigint, id: bigint]\n"
      ]
     },
     "metadata": {},
     "output_type": "display_data"
    },
    {
     "data": {
      "text/plain": [
       "[id_subject: bigint, id: bigint]"
      ]
     },
     "execution_count": 4,
     "metadata": {},
     "output_type": "execute_result"
    }
   ],
   "source": [
    "val cc = graph.\n",
    "    connectedComponents.\n",
    "    vertices.\n",
    "    toDF(\"id_subject\", \"id\")\n",
    "\n",
    "cc.show(5)"
   ]
  }
 ],
 "metadata": {
  "kernelspec": {
   "display_name": "Apache Toree - Scala",
   "language": "scala",
   "name": "apache_toree_scala"
  },
  "language_info": {
   "codemirror_mode": "text/x-scala",
   "file_extension": ".scala",
   "mimetype": "text/x-scala",
   "name": "scala",
   "pygments_lexer": "scala",
   "version": "2.12.15"
  }
 },
 "nbformat": 4,
 "nbformat_minor": 5
}
