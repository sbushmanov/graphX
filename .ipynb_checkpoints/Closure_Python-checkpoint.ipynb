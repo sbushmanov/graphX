{
 "cells": [
  {
   "cell_type": "markdown",
   "id": "020718df",
   "metadata": {},
   "source": [
    "# lambda is lazy"
   ]
  },
  {
   "cell_type": "code",
   "execution_count": 1,
   "id": "f0fa99f9",
   "metadata": {},
   "outputs": [
    {
     "name": "stdout",
     "output_type": "stream",
     "text": [
      "0\n",
      "1\n",
      "2\n",
      "3\n",
      "4\n"
     ]
    }
   ],
   "source": [
    "closures = []\n",
    "for i in range(5):\n",
    "    print(i)\n",
    "    closures.append(lambda : i*i)"
   ]
  },
  {
   "cell_type": "code",
   "execution_count": 2,
   "id": "eb3cd6a7",
   "metadata": {},
   "outputs": [
    {
     "data": {
      "text/plain": [
       "[<function __main__.<lambda>()>,\n",
       " <function __main__.<lambda>()>,\n",
       " <function __main__.<lambda>()>,\n",
       " <function __main__.<lambda>()>,\n",
       " <function __main__.<lambda>()>]"
      ]
     },
     "execution_count": 2,
     "metadata": {},
     "output_type": "execute_result"
    }
   ],
   "source": [
    "closures"
   ]
  },
  {
   "cell_type": "code",
   "execution_count": 3,
   "id": "2904a182",
   "metadata": {},
   "outputs": [
    {
     "name": "stdout",
     "output_type": "stream",
     "text": [
      "16\n",
      "16\n",
      "16\n",
      "16\n",
      "16\n"
     ]
    }
   ],
   "source": [
    "# lambda is called/evaluated when accessed   \n",
    "for j in range(5):\n",
    "    print(closures[j]())"
   ]
  },
  {
   "cell_type": "code",
   "execution_count": 4,
   "id": "e0330e34",
   "metadata": {},
   "outputs": [
    {
     "name": "stdout",
     "output_type": "stream",
     "text": [
      "100\n",
      "100\n",
      "100\n",
      "100\n",
      "100\n"
     ]
    }
   ],
   "source": [
    "i = 10\n",
    "for j in range(5):\n",
    "    print(closures[j]())"
   ]
  },
  {
   "cell_type": "code",
   "execution_count": null,
   "id": "cea76544",
   "metadata": {},
   "outputs": [],
   "source": []
  }
 ],
 "metadata": {
  "kernelspec": {
   "display_name": "Python 3 (ipykernel)",
   "language": "python",
   "name": "python3"
  },
  "language_info": {
   "codemirror_mode": {
    "name": "ipython",
    "version": 3
   },
   "file_extension": ".py",
   "mimetype": "text/x-python",
   "name": "python",
   "nbconvert_exporter": "python",
   "pygments_lexer": "ipython3",
   "version": "3.9.16"
  }
 },
 "nbformat": 4,
 "nbformat_minor": 5
}
