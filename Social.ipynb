{
 "cells": [
  {
   "cell_type": "code",
   "execution_count": 2,
   "id": "f90d2394",
   "metadata": {},
   "outputs": [
    {
     "name": "stdout",
     "output_type": "stream",
     "text": [
      "Starting download from file:///home/sergey/Spark_GraphX/breeze_2.13-2.1.0.jar\n",
      "Finished download of breeze_2.13-2.1.0.jar\n",
      "Using cached version of breeze_2.13-2.1.0.jar\n"
     ]
    }
   ],
   "source": [
    "%addjar file:///home/sergey/Spark_GraphX/breeze_2.13-2.1.0.jar"
   ]
  },
  {
   "cell_type": "code",
   "execution_count": 6,
   "id": "a0f7a608",
   "metadata": {},
   "outputs": [],
   "source": [
    "import org.apache.spark.graphx._\n",
    "import org.apache.spark.SparkContext._\n",
    "import org.apache.spark.rdd.RDD\n",
    "import scala.io.Source\n",
    "import breeze.linalg.SparseVector\n",
    "import scala.math.abs"
   ]
  },
  {
   "cell_type": "code",
   "execution_count": 7,
   "id": "59ec3b1b",
   "metadata": {},
   "outputs": [
    {
     "data": {
      "text/plain": [
       "3"
      ]
     },
     "execution_count": 7,
     "metadata": {},
     "output_type": "execute_result"
    }
   ],
   "source": [
    "type Feature = SparceVector[Int]\n",
    "\n",
    "val featPath = \"file:///home/sergey/Spark_GraphX/data/ego.feat\"\n",
    "val feats = Source.\n",
    "    fromURL(featPath).\n",
    "    getLines.\n",
    "    map{ line =>\n",
    "            val els = line.split(\"\\\\s+\")\n",
    "            \n",
    "    }"
   ]
  }
 ],
 "metadata": {
  "kernelspec": {
   "display_name": "Apache Toree - Scala",
   "language": "scala",
   "name": "apache_toree_scala"
  },
  "language_info": {
   "codemirror_mode": "text/x-scala",
   "file_extension": ".scala",
   "mimetype": "text/x-scala",
   "name": "scala",
   "pygments_lexer": "scala",
   "version": "2.12.15"
  }
 },
 "nbformat": 4,
 "nbformat_minor": 5
}
