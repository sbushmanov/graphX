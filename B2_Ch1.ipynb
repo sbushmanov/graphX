{
 "cells": [
  {
   "cell_type": "markdown",
   "id": "61871e89",
   "metadata": {},
   "source": [
    "# Chapter 1"
   ]
  },
  {
   "cell_type": "code",
   "execution_count": 1,
   "id": "221a7aa2",
   "metadata": {},
   "outputs": [],
   "source": [
    "import org.apache.spark.SparkContext\n",
    "import org.apache.spark.SparkContext._\n",
    "import org.apache.spark.SparkConf\n",
    "import org.apache.spark.rdd.RDD\n",
    "import org.apache.spark.graphx._\n",
    "import scala.sys.process._"
   ]
  },
  {
   "cell_type": "code",
   "execution_count": 2,
   "id": "881b2ade",
   "metadata": {},
   "outputs": [
    {
     "name": "stdout",
     "output_type": "stream",
     "text": [
      "1,Alice,20\n",
      "2,Bob,18\n",
      "3,Charlie,30\n"
     ]
    },
    {
     "data": {
      "text/plain": [
       "warning: one feature warning; for details, enable `:setting -feature' or `:replay -feature'\n"
      ]
     },
     "metadata": {},
     "output_type": "display_data"
    },
    {
     "data": {
      "text/plain": [
       "0"
      ]
     },
     "execution_count": 2,
     "metadata": {},
     "output_type": "execute_result"
    }
   ],
   "source": [
    "\"head -n3 data/people.csv\" !"
   ]
  },
  {
   "cell_type": "code",
   "execution_count": 3,
   "id": "dfb5105c",
   "metadata": {},
   "outputs": [
    {
     "name": "stdout",
     "output_type": "stream",
     "text": [
      "1,2,friend\n",
      "1,3,sister\n",
      "3,2,boss\n"
     ]
    },
    {
     "data": {
      "text/plain": [
       "warning: one feature warning; for details, enable `:setting -feature' or `:replay -feature'\n"
      ]
     },
     "metadata": {},
     "output_type": "display_data"
    },
    {
     "data": {
      "text/plain": [
       "0"
      ]
     },
     "execution_count": 3,
     "metadata": {},
     "output_type": "execute_result"
    }
   ],
   "source": [
    "\"head -n3 data/links.csv\" !"
   ]
  },
  {
   "cell_type": "code",
   "execution_count": 4,
   "id": "4a33fca3",
   "metadata": {},
   "outputs": [
    {
     "data": {
      "text/plain": [
       "people = file:///home/sergey/Spark_GraphX/data/people.csv MapPartitionsRDD[1] at textFile at <console>:36\n",
       "links = file:///home/sergey/Spark_GraphX/data/links.csv MapPartitionsRDD[3] at textFile at <console>:37\n"
      ]
     },
     "metadata": {},
     "output_type": "display_data"
    },
    {
     "data": {
      "text/plain": [
       "file:///home/sergey/Spark_GraphX/data/links.csv MapPartitionsRDD[3] at textFile at <console>:37"
      ]
     },
     "execution_count": 4,
     "metadata": {},
     "output_type": "execute_result"
    }
   ],
   "source": [
    "val people = sc.textFile(\"file:///home/sergey/Spark_GraphX/data/people.csv\")\n",
    "val links = sc.textFile(\"file:///home/sergey/Spark_GraphX/data/links.csv\")"
   ]
  },
  {
   "cell_type": "code",
   "execution_count": 5,
   "id": "54568e19",
   "metadata": {},
   "outputs": [
    {
     "data": {
      "text/plain": [
       "defined class Person\n",
       "defined type alias Connexion\n"
      ]
     },
     "metadata": {},
     "output_type": "display_data"
    }
   ],
   "source": [
    "case class Person(name: String, age: Int)\n",
    "type Connexion = String"
   ]
  },
  {
   "cell_type": "code",
   "execution_count": 6,
   "id": "bedc389f",
   "metadata": {},
   "outputs": [
    {
     "data": {
      "text/plain": [
       "peopleRDD = MapPartitionsRDD[4] at map at <console>:40\n",
       "linksRDD = MapPartitionsRDD[5] at map at <console>:45\n",
       "tinySocial = org.apache.spark.graphx.impl.GraphImpl@4c0b2433\n"
      ]
     },
     "metadata": {},
     "output_type": "display_data"
    },
    {
     "data": {
      "text/plain": [
       "org.apache.spark.graphx.impl.GraphImpl@4c0b2433"
      ]
     },
     "execution_count": 6,
     "metadata": {},
     "output_type": "execute_result"
    }
   ],
   "source": [
    "val peopleRDD: RDD[(VertexId, Person)] = people.map{ line => \n",
    "    val row = line.split(\",\")\n",
    "    (row(0).toInt, Person(row(1), row(2).toInt))\n",
    "}\n",
    "\n",
    "val linksRDD: RDD[Edge[Connexion]] = links.map{line => \n",
    "    val row = line.split(\",\")\n",
    "    Edge(row(0).toInt, row(1).toInt, row(2))\n",
    "}\n",
    "\n",
    "val tinySocial: Graph[Person, Connexion] = Graph(peopleRDD, linksRDD)\n",
    "\n",
    "tinySocial.cache()"
   ]
  },
  {
   "cell_type": "code",
   "execution_count": 7,
   "id": "092e3cac",
   "metadata": {},
   "outputs": [
    {
     "data": {
      "text/plain": [
       "Array((4,Person(Dave,25)), (6,Person(Faith,21)), (8,Person(Harvey,47)), (2,Person(Bob,18)), (1,Person(Alice,20)), (3,Person(Charlie,30)), (7,Person(George,34)), (9,Person(Ivy,21)), (5,Person(Eve,30)))"
      ]
     },
     "execution_count": 7,
     "metadata": {},
     "output_type": "execute_result"
    }
   ],
   "source": [
    "tinySocial.vertices.collect()"
   ]
  },
  {
   "cell_type": "code",
   "execution_count": 8,
   "id": "227756aa",
   "metadata": {},
   "outputs": [
    {
     "data": {
      "text/plain": [
       "Array(Edge(1,2,friend), Edge(1,3,sister), Edge(2,4,brother), Edge(3,2,boss), Edge(4,5,client), Edge(1,9,friend), Edge(6,7,cousin), Edge(7,9,coworker), Edge(8,9,father))"
      ]
     },
     "execution_count": 8,
     "metadata": {},
     "output_type": "execute_result"
    }
   ],
   "source": [
    "tinySocial.edges.collect()"
   ]
  },
  {
   "cell_type": "code",
   "execution_count": 9,
   "id": "651f1345",
   "metadata": {},
   "outputs": [
    {
     "data": {
      "text/plain": [
       "profLinks = List(coworker, boss, employee, client, supplier)\n"
      ]
     },
     "metadata": {},
     "output_type": "display_data"
    },
    {
     "data": {
      "text/plain": [
       "List(coworker, boss, employee, client, supplier)"
      ]
     },
     "execution_count": 9,
     "metadata": {},
     "output_type": "execute_result"
    }
   ],
   "source": [
    "val profLinks: List[Connexion] = List(\"coworker\", \"boss\", \"employee\",\"client\", \"supplier\")"
   ]
  },
  {
   "cell_type": "code",
   "execution_count": 11,
   "id": "ae621708",
   "metadata": {},
   "outputs": [
    {
     "name": "stdout",
     "output_type": "stream",
     "text": [
      "Charlie is a boss of Bob\n",
      "Dave is a client of Eve\n",
      "George is a coworker of Ivy\n"
     ]
    }
   ],
   "source": [
    "tinySocial.\n",
    "    subgraph(t => profLinks.contains(t.attr)).\n",
    "    triplets.\n",
    "    collect.\n",
    "    foreach(t => println(t.srcAttr.name + \" is a \" + t.attr + \" of \" + t.dstAttr.name))"
   ]
  },
  {
   "cell_type": "markdown",
   "id": "73c636bf",
   "metadata": {},
   "source": [
    "# Chapter 2"
   ]
  }
 ],
 "metadata": {
  "kernelspec": {
   "display_name": "Apache Toree - Scala",
   "language": "scala",
   "name": "apache_toree_scala"
  },
  "language_info": {
   "codemirror_mode": "text/x-scala",
   "file_extension": ".scala",
   "mimetype": "text/x-scala",
   "name": "scala",
   "pygments_lexer": "scala",
   "version": "2.12.15"
  }
 },
 "nbformat": 4,
 "nbformat_minor": 5
}
