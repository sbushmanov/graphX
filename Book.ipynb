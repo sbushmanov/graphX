{
 "cells": [
  {
   "cell_type": "markdown",
   "id": "f1688972",
   "metadata": {},
   "source": [
    "# Chapter 2"
   ]
  },
  {
   "cell_type": "code",
   "execution_count": 4,
   "id": "8b10bc7a",
   "metadata": {},
   "outputs": [
    {
     "name": "stdout",
     "output_type": "stream",
     "text": [
      "Types will be printed.\n",
      "Types will be printed.\n",
      "Console output WILL be shown.\n",
      "Console output WILL be shown.\n"
     ]
    }
   ],
   "source": [
    "%showtypes on\n",
    "%showoutput on"
   ]
  },
  {
   "cell_type": "markdown",
   "id": "bc024929",
   "metadata": {},
   "source": [
    "## Load graph\n",
    "\n",
    "- GraphLoader.edgeListFile"
   ]
  },
  {
   "cell_type": "code",
   "execution_count": 2,
   "id": "76d68c8c",
   "metadata": {},
   "outputs": [],
   "source": [
    "import scala.sys.process._"
   ]
  },
  {
   "cell_type": "code",
   "execution_count": 3,
   "id": "29227769",
   "metadata": {},
   "outputs": [
    {
     "name": "stdout",
     "output_type": "stream",
     "text": [
      "# Directed graph (each unordered pair of nodes is saved once): Cit-HepTh.txt \n",
      "# Paper citation network of Arxiv High Energy Physics Theory category\n",
      "# Nodes: 27770 Edges: 352807\n",
      "# FromNodeId\tToNodeId\n",
      "1001\t9304045\n",
      "1001\t9308122\n",
      "1001\t9309097\n",
      "1001\t9311042\n",
      "1001\t9401139\n",
      "1001\t9404151\n"
     ]
    },
    {
     "data": {
      "text/plain": [
       "command: String = head -n10 /home/sergey/Spark_GraphX/cit-HepTh.txt\n"
      ]
     },
     "metadata": {},
     "output_type": "display_data"
    },
    {
     "data": {
      "text/plain": [
       "command: String = head -n10 /home/sergey/Spark_GraphX/cit-HepTh.txt\n"
      ]
     },
     "execution_count": 3,
     "metadata": {},
     "output_type": "execute_result"
    }
   ],
   "source": [
    "val command = (\"head -n10 /home/sergey/Spark_GraphX/cit-HepTh.txt\")\n",
    "\n",
    "command.lineStream.foreach(println)"
   ]
  },
  {
   "cell_type": "code",
   "execution_count": 4,
   "id": "d64e10a9",
   "metadata": {},
   "outputs": [
    {
     "name": "stdout",
     "output_type": "stream",
     "text": [
      "# Directed graph (each unordered pair of nodes is saved once): Cit-HepTh.txt \r\n",
      "# Paper citation network of Arxiv High Energy Physics Theory category\r\n",
      "# Nodes: 27770 Edges: 352807\r\n",
      "# FromNodeId\tToNodeId\r\n",
      "1001\t9304045\r\n",
      "1001\t9308122\r\n",
      "1001\t9309097\r\n",
      "1001\t9311042\r\n",
      "1001\t9401139\r\n",
      "1001\t9404151\r\n"
     ]
    },
    {
     "data": {
      "text/plain": [
       "warning: one feature warning; for details, enable `:setting -feature' or `:replay -feature'\n"
      ]
     },
     "metadata": {},
     "output_type": "display_data"
    },
    {
     "data": {
      "text/plain": [
       "Int = 0\n"
      ]
     },
     "execution_count": 4,
     "metadata": {},
     "output_type": "execute_result"
    }
   ],
   "source": [
    "command !"
   ]
  },
  {
   "cell_type": "code",
   "execution_count": 5,
   "id": "f648ae9a",
   "metadata": {},
   "outputs": [],
   "source": [
    "import org.apache.spark.graphx._"
   ]
  },
  {
   "cell_type": "code",
   "execution_count": 6,
   "id": "f015a000",
   "metadata": {},
   "outputs": [
    {
     "data": {
      "text/plain": [
       "graph: org.apache.spark.graphx.Graph[Int,Int] = org.apache.spark.graphx.impl.GraphImpl@5c048b43\n"
      ]
     },
     "metadata": {},
     "output_type": "display_data"
    },
    {
     "data": {
      "text/plain": [
       "graph: org.apache.spark.graphx.Graph[Int,Int] = org.apache.spark.graphx.impl.GraphImpl@5c048b43\n"
      ]
     },
     "execution_count": 6,
     "metadata": {},
     "output_type": "execute_result"
    }
   ],
   "source": [
    "val graph = GraphLoader.edgeListFile(sc, \"file:///home/sergey/Spark_GraphX/cit-HepTh.txt\")"
   ]
  },
  {
   "cell_type": "markdown",
   "id": "6e4ba171",
   "metadata": {},
   "source": [
    "# Graph methods\n",
    "\n",
    "- `graph.vertices`\n",
    "- `graph.edges`\n",
    "- `graph.inDegrees`\n",
    "- `graph.outDegrees`\n",
    "- `graph.numEdges`\n",
    "- `graph.numVertices`"
   ]
  },
  {
   "cell_type": "code",
   "execution_count": 7,
   "id": "09ae0a35",
   "metadata": {},
   "outputs": [
    {
     "data": {
      "text/plain": [
       "Array[(org.apache.spark.graphx.VertexId, Int)] = Array((9405166,1), (9312172,1), (108150,1))\n"
      ]
     },
     "execution_count": 7,
     "metadata": {},
     "output_type": "execute_result"
    }
   ],
   "source": [
    "graph.vertices.take(3)"
   ]
  },
  {
   "cell_type": "code",
   "execution_count": 8,
   "id": "d3bdda1f",
   "metadata": {},
   "outputs": [
    {
     "data": {
      "text/plain": [
       "Array[org.apache.spark.graphx.Edge[Int]] = Array(Edge(1001,9304045,1), Edge(1001,9308122,1), Edge(1001,9309097,1))\n"
      ]
     },
     "execution_count": 8,
     "metadata": {},
     "output_type": "execute_result"
    }
   ],
   "source": [
    "graph.edges.take(3)"
   ]
  },
  {
   "cell_type": "code",
   "execution_count": null,
   "id": "ff357dbf",
   "metadata": {},
   "outputs": [],
   "source": [
    "graph.inDegrees.takeOrdered(1)(Ordering[Int].reverse.on(_._2))"
   ]
  },
  {
   "cell_type": "code",
   "execution_count": null,
   "id": "288313ba",
   "metadata": {},
   "outputs": [],
   "source": [
    "graph.inDegrees.reduce((a,b) => if (a._2 > b._2) a else b)"
   ]
  },
  {
   "cell_type": "code",
   "execution_count": null,
   "id": "125823c0",
   "metadata": {},
   "outputs": [],
   "source": [
    "graph.inDegrees.reduce{ case (a,b) => if (a._2 > b._2) a else b}"
   ]
  },
  {
   "cell_type": "code",
   "execution_count": null,
   "id": "21ee3b09",
   "metadata": {},
   "outputs": [],
   "source": [
    "graph.edges.flatMap{ case el => Seq(el.srcId, el.dstId) }.max"
   ]
  },
  {
   "cell_type": "code",
   "execution_count": null,
   "id": "35e9196b",
   "metadata": {},
   "outputs": [],
   "source": [
    "graph.edges.map{case el => if (el.srcId > el.dstId) el.srcId else el.dstId}.max"
   ]
  },
  {
   "cell_type": "code",
   "execution_count": null,
   "id": "e2486704",
   "metadata": {},
   "outputs": [],
   "source": [
    "graph.edges.fold"
   ]
  },
  {
   "cell_type": "code",
   "execution_count": null,
   "id": "1fe919eb",
   "metadata": {},
   "outputs": [],
   "source": [
    "val pageRank = graph.pageRank(.001).vertices\n",
    "pageRank.take(10)"
   ]
  },
  {
   "cell_type": "code",
   "execution_count": null,
   "id": "00c7dd46",
   "metadata": {},
   "outputs": [],
   "source": [
    "pageRank.takeOrdered(1)(Ordering[Double].on(- _._2))"
   ]
  },
  {
   "cell_type": "markdown",
   "id": "239267f2",
   "metadata": {},
   "source": [
    "# Chapter 3"
   ]
  },
  {
   "cell_type": "markdown",
   "id": "3490bc08",
   "metadata": {},
   "source": [
    "## Closures"
   ]
  },
  {
   "cell_type": "code",
   "execution_count": null,
   "id": "2cf72329",
   "metadata": {},
   "outputs": [],
   "source": [
    "var f: Int => Int = null"
   ]
  },
  {
   "cell_type": "code",
   "execution_count": null,
   "id": "80851640",
   "metadata": {},
   "outputs": [],
   "source": [
    "def doStuff() = {\n",
    "    var n = 3\n",
    "    def addn(m: Int) = m + n\n",
    "    f = addn\n",
    "    n = n + 1\n",
    "}"
   ]
  },
  {
   "cell_type": "code",
   "execution_count": null,
   "id": "439e9bd7",
   "metadata": {},
   "outputs": [],
   "source": [
    "doStuff"
   ]
  },
  {
   "cell_type": "code",
   "execution_count": null,
   "id": "7bdda899",
   "metadata": {},
   "outputs": [],
   "source": [
    "f(2)"
   ]
  },
  {
   "cell_type": "code",
   "execution_count": null,
   "id": "9dc8a4ad",
   "metadata": {},
   "outputs": [],
   "source": [
    "doStuff"
   ]
  },
  {
   "cell_type": "code",
   "execution_count": null,
   "id": "8832067b",
   "metadata": {},
   "outputs": [],
   "source": [
    "f(2)"
   ]
  },
  {
   "cell_type": "code",
   "execution_count": null,
   "id": "a3e30b7b",
   "metadata": {},
   "outputs": [],
   "source": [
    "def doStuff2() = {\n",
    "    var n = 3\n",
    "    val addn: Int => Int = m + n\n",
    "    f = addn\n",
    "    n = n + 1\n",
    "}"
   ]
  },
  {
   "cell_type": "code",
   "execution_count": null,
   "id": "9173c4ba",
   "metadata": {},
   "outputs": [],
   "source": [
    "doStuff2"
   ]
  },
  {
   "cell_type": "code",
   "execution_count": null,
   "id": "575136b6",
   "metadata": {},
   "outputs": [],
   "source": [
    "f(2)"
   ]
  },
  {
   "cell_type": "markdown",
   "id": "d5871658",
   "metadata": {},
   "source": [
    "## Class definitions"
   ]
  },
  {
   "cell_type": "markdown",
   "id": "ced5b90d",
   "metadata": {},
   "source": [
    "#### W/o property keyword\n",
    "\n",
    "No `getter`/`setter` field created in the body "
   ]
  },
  {
   "cell_type": "code",
   "execution_count": null,
   "id": "781400a9",
   "metadata": {},
   "outputs": [],
   "source": [
    "class Cat(name: String)\n",
    "val cat = new Cat(\"pretty\")\n",
    "cat.name"
   ]
  },
  {
   "cell_type": "markdown",
   "id": "f8aafdcc",
   "metadata": {},
   "source": [
    "### With property keyword\n",
    "\n",
    "`getter` field is created"
   ]
  },
  {
   "cell_type": "code",
   "execution_count": null,
   "id": "b89fb9a4",
   "metadata": {},
   "outputs": [],
   "source": [
    "class Cat2(val name: String)\n",
    "val cat2 = new Cat2(\"pretty\")\n",
    "cat2.name"
   ]
  },
  {
   "cell_type": "markdown",
   "id": "3f9d0514",
   "metadata": {},
   "source": [
    "### Case class\n",
    "\n",
    "`getter`/`setter` created by default"
   ]
  },
  {
   "cell_type": "code",
   "execution_count": null,
   "id": "a26b1f12",
   "metadata": {},
   "outputs": [],
   "source": [
    "case class Cat3(name: String)\n",
    "val cat3 = Cat3(\"pretty\")\n",
    "cat3.name"
   ]
  },
  {
   "cell_type": "markdown",
   "id": "57f518a3",
   "metadata": {},
   "source": [
    "# Chapter 4"
   ]
  },
  {
   "cell_type": "code",
   "execution_count": 1,
   "id": "c0b6f9de",
   "metadata": {},
   "outputs": [
    {
     "data": {
      "text/plain": [
       "verts = Array((1,Ann), (2,Bill), (3,Charles), (4,Diane), (5,Went to gym this morning))\n",
       "edges = Array(Edge(1,2,is-friends-with), Edge(2,3,is-friends-with), Edge(3,4,is-friends-with), Edge(4,5,Likes-status), Edge(3,5,Wrote-status))\n",
       "myVertices = ParallelCollectionRDD[0] at makeRDD at <console>:42\n",
       "myEdges = ParallelCollectionRDD[1] at makeRDD at <console>:43\n",
       "myGraph = org.apache.spark.graphx.impl.GraphImpl@1220b535\n"
      ]
     },
     "metadata": {},
     "output_type": "display_data"
    },
    {
     "data": {
      "text/plain": [
       "org.apache.spark.graphx.impl.GraphImpl@1220b535"
      ]
     },
     "execution_count": 1,
     "metadata": {},
     "output_type": "execute_result"
    }
   ],
   "source": [
    "import org.apache.spark.graphx._\n",
    "\n",
    "val verts = Array(\n",
    "    (1L, \"Ann\"), \n",
    "    (2L, \"Bill\"),\n",
    "    (3L, \"Charles\"), \n",
    "    (4L, \"Diane\"), \n",
    "    (5L, \"Went to gym this morning\")\n",
    ")\n",
    "\n",
    "val edges = Array(\n",
    "    Edge(1L, 2L, \"is-friends-with\"),\n",
    "    Edge(2L, 3L, \"is-friends-with\"), \n",
    "    Edge(3L, 4L, \"is-friends-with\"),\n",
    "    Edge(4L, 5L, \"Likes-status\"),\n",
    "    Edge(3L, 5L, \"Wrote-status\")\n",
    ")\n",
    "\n",
    "val myVertices = sc.makeRDD(verts)\n",
    "val myEdges = sc.makeRDD(edges)\n",
    "val myGraph = Graph(myVertices, myEdges)"
   ]
  },
  {
   "cell_type": "code",
   "execution_count": 24,
   "id": "7329ffcd",
   "metadata": {},
   "outputs": [
    {
     "data": {
      "text/plain": [
       "Class[_ <: org.apache.spark.graphx.Graph[String,String]] = class org.apache.spark.graphx.impl.GraphImpl\n"
      ]
     },
     "execution_count": 24,
     "metadata": {},
     "output_type": "execute_result"
    }
   ],
   "source": [
    "myGraph.getClass"
   ]
  },
  {
   "cell_type": "code",
   "execution_count": 15,
   "id": "16bc9763",
   "metadata": {},
   "outputs": [
    {
     "name": "stdout",
     "output_type": "stream",
     "text": [
      "(1,Ann)\n",
      "(2,Bill)\n",
      "(3,Charles)\n",
      "(4,Diane)\n",
      "(5,Went to gym this morning)\n"
     ]
    }
   ],
   "source": [
    "myGraph.vertices.take(10).foreach(println)"
   ]
  },
  {
   "cell_type": "code",
   "execution_count": 23,
   "id": "e59f2665",
   "metadata": {},
   "outputs": [
    {
     "data": {
      "text/plain": [
       "Class[_ <: org.apache.spark.graphx.EdgeRDD[String]] = class org.apache.spark.graphx.impl.EdgeRDDImpl\n"
      ]
     },
     "execution_count": 23,
     "metadata": {},
     "output_type": "execute_result"
    }
   ],
   "source": [
    "myGraph.edges.getClass"
   ]
  },
  {
   "cell_type": "code",
   "execution_count": 16,
   "id": "bc501968",
   "metadata": {},
   "outputs": [
    {
     "name": "stdout",
     "output_type": "stream",
     "text": [
      "Edge(1,2,is-friends-with)\n",
      "Edge(2,3,is-friends-with)\n",
      "Edge(3,4,is-friends-with)\n",
      "Edge(4,5,Likes-status)\n",
      "Edge(3,5,Wrote-status)\n"
     ]
    }
   ],
   "source": [
    "myGraph.edges.take(10).foreach(println)"
   ]
  },
  {
   "cell_type": "code",
   "execution_count": 59,
   "id": "6e6f79ff",
   "metadata": {},
   "outputs": [
    {
     "name": "stdout",
     "output_type": "stream",
     "text": [
      "(1,2,is-friends-with)\n",
      "(2,3,is-friends-with)\n",
      "(3,4,is-friends-with)\n",
      "(4,5,Likes-status)\n",
      "(3,5,Wrote-status)\n"
     ]
    }
   ],
   "source": [
    "myGraph.edges.map(t => (t.srcId, t.dstId, t.attr)).collect.foreach(println)"
   ]
  },
  {
   "cell_type": "code",
   "execution_count": 52,
   "id": "b4c88112",
   "metadata": {},
   "outputs": [
    {
     "data": {
      "text/plain": [
       "MapPartitionsRDD[34] at mapPartitions at GraphImpl.scala:47"
      ]
     },
     "execution_count": 52,
     "metadata": {},
     "output_type": "execute_result"
    }
   ],
   "source": [
    "myGraph.triplets"
   ]
  },
  {
   "cell_type": "code",
   "execution_count": 17,
   "id": "bec11024",
   "metadata": {},
   "outputs": [
    {
     "name": "stdout",
     "output_type": "stream",
     "text": [
      "((1,Ann),(2,Bill),is-friends-with)\n",
      "((2,Bill),(3,Charles),is-friends-with)\n",
      "((3,Charles),(4,Diane),is-friends-with)\n",
      "((4,Diane),(5,Went to gym this morning),Likes-status)\n",
      "((3,Charles),(5,Went to gym this morning),Wrote-status)\n"
     ]
    }
   ],
   "source": [
    "myGraph.triplets.take(10).foreach(println)"
   ]
  },
  {
   "cell_type": "code",
   "execution_count": 39,
   "id": "290b3b42",
   "metadata": {},
   "outputs": [
    {
     "name": "stdout",
     "output_type": "stream",
     "text": [
      "((1,Ann),(2,Bill),is-friends-with)\n",
      "((2,Bill),(3,Charles),is-friends-with)\n",
      "((3,Charles),(4,Diane),is-friends-with)\n"
     ]
    }
   ],
   "source": [
    "myGraph.\n",
    "    triplets.\n",
    "    takeOrdered(3)(Ordering[Long].on(t => t.dstId)).\n",
    "    foreach(println)"
   ]
  },
  {
   "cell_type": "code",
   "execution_count": 44,
   "id": "704dd22b",
   "metadata": {},
   "outputs": [
    {
     "name": "stdout",
     "output_type": "stream",
     "text": [
      "((1,Ann),(2,Bill),is-friends-with)\n",
      "((2,Bill),(3,Charles),is-friends-with)\n",
      "((3,Charles),(4,Diane),is-friends-with)\n"
     ]
    }
   ],
   "source": [
    "myGraph.\n",
    "    triplets.\n",
    "    takeOrdered(3)(Ordering[Long].on(t => t.dstId)).\n",
    "    foreach(println)"
   ]
  },
  {
   "cell_type": "code",
   "execution_count": 45,
   "id": "e9d9c307",
   "metadata": {},
   "outputs": [
    {
     "ename": "Unknown Error",
     "evalue": "<console>:30: error: value on is not a member of object scala.math.Ordering\n           takeOrdered(3)(Ordering.on(t => t.dstId)).\n                                   ^\n",
     "output_type": "error",
     "traceback": []
    }
   ],
   "source": [
    "myGraph.\n",
    "    triplets.\n",
    "    takeOrdered(3)(Ordering.on(t => t.dstId)).\n",
    "    foreach(println)"
   ]
  },
  {
   "cell_type": "code",
   "execution_count": 42,
   "id": "92e2b91f",
   "metadata": {},
   "outputs": [
    {
     "name": "stdout",
     "output_type": "stream",
     "text": [
      "((1,Ann),(2,Bill),is-friends-with)\n",
      "((2,Bill),(3,Charles),is-friends-with)\n",
      "((3,Charles),(4,Diane),is-friends-with)\n"
     ]
    }
   ],
   "source": [
    "myGraph.\n",
    "    triplets.\n",
    "    takeOrdered(3)(Ordering.by(t => t.dstId)).\n",
    "    foreach(println)"
   ]
  },
  {
   "cell_type": "code",
   "execution_count": null,
   "id": "7b670ef0",
   "metadata": {},
   "outputs": [],
   "source": [
    "myGraph.\n",
    "    triplets.\n",
    "    takeOrdered(3)(Ordering.by(_.dstId)).\n",
    "    foreach(println)"
   ]
  },
  {
   "cell_type": "markdown",
   "id": "cfe0103a",
   "metadata": {},
   "source": [
    "## EdgeTriplet class\n",
    "\n",
    "- `Attr`         Attribute data for the edge\n",
    "- `srcId`        Vertex id of the edge's source vertex\n",
    "- `srcAttr`      Attribute data for the edge’s source vertex\n",
    "- `dstId`        Vertex id of the edge's destination vertex\n",
    "- `dstAttr`      Attribute data for the edge’s destination vertex"
   ]
  },
  {
   "cell_type": "markdown",
   "id": "1b0db7fe",
   "metadata": {},
   "source": [
    "## MapTriplet"
   ]
  },
  {
   "cell_type": "code",
   "execution_count": 1,
   "id": "1b5e0f49",
   "metadata": {},
   "outputs": [
    {
     "name": "stdout",
     "output_type": "stream",
     "text": [
      "((1,Ann),(2,Bill),is-friends-with)\n",
      "((2,Bill),(3,Charles),is-friends-with)\n",
      "((3,Charles),(4,Diane),is-friends-with)\n",
      "((4,Diane),(5,Went to gym this morning),Likes-status)\n",
      "((3,Charles),(5,Went to gym this morning),Wrote-status)\n"
     ]
    }
   ],
   "source": [
    "myGraph.triplets.take(10).foreach(println)"
   ]
  },
  {
   "cell_type": "code",
   "execution_count": 18,
   "id": "c4230704",
   "metadata": {},
   "outputs": [
    {
     "name": "stdout",
     "output_type": "stream",
     "text": [
      "Edge(1,2,(is-friends-with,true))\n",
      "Edge(2,3,(is-friends-with,false))\n",
      "Edge(3,4,(is-friends-with,true))\n",
      "Edge(4,5,(Likes-status,false))\n",
      "Edge(3,5,(Wrote-status,false))\n"
     ]
    }
   ],
   "source": [
    "myGraph.\n",
    "    mapTriplets(t => \n",
    "        (t.attr, t.attr==\"is-friends-with\" &&t.srcAttr.toLowerCase.contains(\"a\"))).\n",
    "    edges.\n",
    "    take(10).\n",
    "    foreach(println)"
   ]
  },
  {
   "cell_type": "markdown",
   "id": "cfc5f99e",
   "metadata": {},
   "source": [
    "## Add Boolean annotation to edges indicating a condition"
   ]
  },
  {
   "cell_type": "code",
   "execution_count": 19,
   "id": "9b0e6e5f",
   "metadata": {},
   "outputs": [
    {
     "name": "stdout",
     "output_type": "stream",
     "text": [
      "((1,Ann),(2,Bill),(is-friends-with,true))\n",
      "((2,Bill),(3,Charles),(is-friends-with,false))\n",
      "((3,Charles),(4,Diane),(is-friends-with,true))\n",
      "((4,Diane),(5,Went to gym this morning),(Likes-status,false))\n",
      "((3,Charles),(5,Went to gym this morning),(Wrote-status,false))\n"
     ]
    }
   ],
   "source": [
    "myGraph.\n",
    "    mapTriplets(t => \n",
    "        (t.attr, t.attr==\"is-friends-with\" && t.srcAttr.toLowerCase.contains(\"a\"))).\n",
    "    triplets.\n",
    "    take(10).\n",
    "    foreach(println)"
   ]
  },
  {
   "cell_type": "code",
   "execution_count": 32,
   "id": "049afccf",
   "metadata": {},
   "outputs": [
    {
     "data": {
      "text/plain": [
       "Class[_ <: org.apache.spark.graphx.Graph[String,(String, Boolean)]] = class org.apache.spark.graphx.impl.GraphImpl\n"
      ]
     },
     "execution_count": 32,
     "metadata": {},
     "output_type": "execute_result"
    }
   ],
   "source": [
    "myGraph.\n",
    "    mapTriplets(t => \n",
    "        (t.attr, t.attr==\"is-friends-with\" && t.srcAttr.toLowerCase.contains(\"a\"))).\n",
    "    getClass"
   ]
  },
  {
   "cell_type": "code",
   "execution_count": 21,
   "id": "aec7a19f",
   "metadata": {},
   "outputs": [
    {
     "data": {
      "text/plain": [
       "Class[_ <: org.apache.spark.graphx.EdgeRDD[String]] = class org.apache.spark.graphx.impl.EdgeRDDImpl\n"
      ]
     },
     "execution_count": 21,
     "metadata": {},
     "output_type": "execute_result"
    }
   ],
   "source": [
    "myGraph.edges.getClass"
   ]
  },
  {
   "cell_type": "code",
   "execution_count": 30,
   "id": "73420b09",
   "metadata": {},
   "outputs": [
    {
     "data": {
      "text/plain": [
       "Array[org.apache.spark.graphx.Edge[String]] = Array(Edge(1,2,is-friends-with), Edge(2,3,is-friends-with), Edge(3,4,is-friends-with), Edge(4,5,Likes-status), Edge(3,5,Wrote-status))\n"
      ]
     },
     "execution_count": 30,
     "metadata": {},
     "output_type": "execute_result"
    }
   ],
   "source": [
    "myGraph.edges.collect"
   ]
  },
  {
   "cell_type": "code",
   "execution_count": 28,
   "id": "f41ef341",
   "metadata": {},
   "outputs": [
    {
     "data": {
      "text/plain": [
       "Class[_ <: org.apache.spark.rdd.RDD[org.apache.spark.graphx.EdgeTriplet[String,String]]] = class org.apache.spark.rdd.MapPartitionsRDD\n"
      ]
     },
     "execution_count": 28,
     "metadata": {},
     "output_type": "execute_result"
    }
   ],
   "source": [
    "myGraph.triplets.getClass"
   ]
  },
  {
   "cell_type": "code",
   "execution_count": 31,
   "id": "b11143e9",
   "metadata": {},
   "outputs": [
    {
     "data": {
      "text/plain": [
       "Array[org.apache.spark.graphx.EdgeTriplet[String,String]] = Array(((1,Ann),(2,Bill),is-friends-with), ((2,Bill),(3,Charles),is-friends-with), ((3,Charles),(4,Diane),is-friends-with), ((4,Diane),(5,Went to gym this morning),Likes-status), ((3,Charles),(5,Went to gym this morning),Wrote-status))\n"
      ]
     },
     "execution_count": 31,
     "metadata": {},
     "output_type": "execute_result"
    }
   ],
   "source": [
    "myGraph.triplets.collect"
   ]
  },
  {
   "cell_type": "markdown",
   "id": "a2323fa7",
   "metadata": {},
   "source": [
    "## Annotate type of anonymous function"
   ]
  },
  {
   "cell_type": "code",
   "execution_count": null,
   "id": "c244e6c1",
   "metadata": {},
   "outputs": [],
   "source": [
    "myGraph.\n",
    "    mapTriplets(\n",
    "        (t => (t.attr, t.attr==\"is-friends-with\" &&t.srcAttr.toLowerCase.contains(\"a\"))) :\n",
    "            (EdgeTriplet[String,String] => Tuple2[String,Boolean]) \n",
    "    )\n",
    ".triplets.collect"
   ]
  },
  {
   "cell_type": "markdown",
   "id": "8f188321",
   "metadata": {},
   "source": [
    "## Using `aggregateMessages[]()` to compute the out-degree of each vertex\n",
    "\n",
    "### Incoming messages"
   ]
  },
  {
   "cell_type": "code",
   "execution_count": 1,
   "id": "377fe890",
   "metadata": {},
   "outputs": [
    {
     "data": {
      "text/plain": [
       "Array[(org.apache.spark.graphx.VertexId, Int)] = Array((1,1), (2,1), (3,2), (4,1))\n"
      ]
     },
     "execution_count": 1,
     "metadata": {},
     "output_type": "execute_result"
    }
   ],
   "source": [
    "myGraph.aggregateMessages[Int](_.sendToSrc(1), _ + _).collect"
   ]
  },
  {
   "cell_type": "markdown",
   "id": "82faab46",
   "metadata": {},
   "source": [
    "### Outgoing messages"
   ]
  },
  {
   "cell_type": "code",
   "execution_count": 2,
   "id": "7f4c38b9",
   "metadata": {},
   "outputs": [
    {
     "data": {
      "text/plain": [
       "Array[(org.apache.spark.graphx.VertexId, Int)] = Array((2,1), (3,1), (4,1), (5,2))\n"
      ]
     },
     "execution_count": 2,
     "metadata": {},
     "output_type": "execute_result"
    }
   ],
   "source": [
    "myGraph.aggregateMessages[Int](_.sendToDst(1), _ + _).collect"
   ]
  },
  {
   "cell_type": "markdown",
   "id": "2a9aa714",
   "metadata": {},
   "source": [
    "## RDD `join()` to match up VertexIds with vertex data"
   ]
  },
  {
   "cell_type": "code",
   "execution_count": 4,
   "id": "a120c926",
   "metadata": {},
   "outputs": [
    {
     "data": {
      "text/plain": [
       "Array[(org.apache.spark.graphx.VertexId, (Int, String))] = Array((1,(1,Ann)), (2,(1,Bill)), (3,(2,Charles)), (4,(1,Diane)))\n"
      ]
     },
     "execution_count": 4,
     "metadata": {},
     "output_type": "execute_result"
    }
   ],
   "source": [
    "myGraph.\n",
    "    aggregateMessages[Int](_.sendToSrc(1),_ + _).\n",
    "    join(myGraph.vertices).\n",
    "    collect"
   ]
  },
  {
   "cell_type": "code",
   "execution_count": 6,
   "id": "97a7a862",
   "metadata": {},
   "outputs": [
    {
     "data": {
      "text/plain": [
       "Array[(String, Int)] = Array((Charles,2), (Bill,1), (Diane,1))\n"
      ]
     },
     "execution_count": 6,
     "metadata": {},
     "output_type": "execute_result"
    }
   ],
   "source": [
    "myGraph\n",
    "    .aggregateMessages[Int](_.sendToSrc(1),_ + _)\n",
    "    .join(myGraph.vertices)\n",
    "    .map(_._2.swap)\n",
    "    .takeOrdered(3)(Ordering.by(- _._2))"
   ]
  },
  {
   "cell_type": "code",
   "execution_count": 1,
   "id": "e6b5ef01",
   "metadata": {},
   "outputs": [
    {
     "data": {
      "text/plain": [
       "Array[(String, Option[Int])] = Array((Ann,Some(1)), (Bill,Some(1)), (Charles,Some(2)), (Diane,Some(1)), (Went to gym this morning,None))\n"
      ]
     },
     "execution_count": 1,
     "metadata": {},
     "output_type": "execute_result"
    }
   ],
   "source": [
    "myGraph\n",
    "    .aggregateMessages[Int](_.sendToSrc(1),_ + _)\n",
    "    .rightOuterJoin(myGraph.vertices)\n",
    "    .map(_._2.swap)\n",
    "    .collect"
   ]
  },
  {
   "cell_type": "code",
   "execution_count": 3,
   "id": "40dfd7a2",
   "metadata": {},
   "outputs": [
    {
     "data": {
      "text/plain": [
       "Array[(String, Int)] = Array((Ann,1), (Bill,1), (Charles,2), (Diane,1), (Went to gym this morning,0))\n"
      ]
     },
     "execution_count": 3,
     "metadata": {},
     "output_type": "execute_result"
    }
   ],
   "source": [
    "myGraph\n",
    "    .aggregateMessages[Int](_.sendToSrc(1),_ + _)\n",
    "    .rightOuterJoin(myGraph.vertices)\n",
    "    .map(t => (t._2._2, t._2._1.getOrElse(0)))\n",
    "    .collect"
   ]
  },
  {
   "cell_type": "code",
   "execution_count": 5,
   "id": "4f9b9b9b",
   "metadata": {},
   "outputs": [
    {
     "data": {
      "text/plain": [
       "coll: Array[(org.apache.spark.graphx.VertexId, (Option[Int], String))] = Array((1,(Some(1),Ann)), (2,(Some(1),Bill)), (3,(Some(2),Charles)), (4,(Some(1),Diane)), (5,(None,Went to gym this morning)))\n"
      ]
     },
     "metadata": {},
     "output_type": "display_data"
    },
    {
     "data": {
      "text/plain": [
       "coll: Array[(org.apache.spark.graphx.VertexId, (Option[Int], String))] = Array((1,(Some(1),Ann)), (2,(Some(1),Bill)), (3,(Some(2),Charles)), (4,(Some(1),Diane)), (5,(None,Went to gym this morning)))\n"
      ]
     },
     "execution_count": 5,
     "metadata": {},
     "output_type": "execute_result"
    }
   ],
   "source": [
    "val coll = myGraph\n",
    "    .aggregateMessages[Int](_.sendToSrc(1),_ + _)\n",
    "    .rightOuterJoin(myGraph.vertices)\n",
    "    .collect"
   ]
  },
  {
   "cell_type": "code",
   "execution_count": 7,
   "id": "8c237244",
   "metadata": {},
   "outputs": [
    {
     "data": {
      "text/plain": [
       "Class[org.apache.spark.graphx.VertexId] = long\n"
      ]
     },
     "execution_count": 7,
     "metadata": {},
     "output_type": "execute_result"
    }
   ],
   "source": [
    "coll(0)._1.getClass"
   ]
  },
  {
   "cell_type": "markdown",
   "id": "94b7b635",
   "metadata": {},
   "source": [
    "# Iterated (via recursion) Map/Reduce to find distance of furthest vertex"
   ]
  },
  {
   "cell_type": "code",
   "execution_count": 8,
   "id": "7038bc89",
   "metadata": {},
   "outputs": [
    {
     "data": {
      "text/plain": [
       "sendMsg: (ec: org.apache.spark.graphx.EdgeContext[Int,String,Int])Unit\n",
       "mergeMsg: (a: Int, b: Int)Int\n",
       "propagateEdgeCount: (g: org.apache.spark.graphx.Graph[Int,String])org.apache.spark.graphx.Graph[Int,String]\n"
      ]
     },
     "metadata": {},
     "output_type": "display_data"
    }
   ],
   "source": [
    "// EdgeContext[VD, ED, Msg]\n",
    "\n",
    "def sendMsg(ec: EdgeContext[Int,String,Int]): Unit = {\n",
    "    ec.sendToDst(ec.srcAttr + 1)\n",
    "}\n",
    "\n",
    "def mergeMsg(a: Int, b: Int): Int = {\n",
    "    math.max(a, b)\n",
    "}\n",
    "\n",
    "def propagateEdgeCount(g:Graph[Int,String]):Graph[Int,String] = {\n",
    "    val verts = g.aggregateMessages[Int](sendMsg, mergeMsg)\n",
    "    val g2 = Graph(verts, g.edges)\n",
    "    val check = g2\n",
    "        .vertices\n",
    "        .join(g.vertices)\n",
    "        .map(x => x._2._1 - x._2._2)\n",
    "        .reduce(_ + _)\n",
    "    if (check > 0) propagateEdgeCount(g2) else g\n",
    "}"
   ]
  },
  {
   "cell_type": "code",
   "execution_count": 15,
   "id": "162a71a6",
   "metadata": {},
   "outputs": [
    {
     "data": {
      "text/plain": [
       "initialGraph: org.apache.spark.graphx.Graph[Int,String] = org.apache.spark.graphx.impl.GraphImpl@37f8ebee\n"
      ]
     },
     "metadata": {},
     "output_type": "display_data"
    },
    {
     "data": {
      "text/plain": [
       "initialGraph: org.apache.spark.graphx.Graph[Int,String] = org.apache.spark.graphx.impl.GraphImpl@37f8ebee\n"
      ]
     },
     "execution_count": 15,
     "metadata": {},
     "output_type": "execute_result"
    }
   ],
   "source": [
    "val initialGraph = myGraph.mapVertices((_,_) => 0)"
   ]
  },
  {
   "cell_type": "code",
   "execution_count": 12,
   "id": "8595a86b",
   "metadata": {},
   "outputs": [
    {
     "data": {
      "text/plain": [
       "Array[(org.apache.spark.graphx.VertexId, Int)] = Array((1,0), (2,0), (3,0), (4,0), (5,0))\n"
      ]
     },
     "execution_count": 12,
     "metadata": {},
     "output_type": "execute_result"
    }
   ],
   "source": [
    "initialGraph.vertices.collect"
   ]
  },
  {
   "cell_type": "code",
   "execution_count": 13,
   "id": "278ce0f6",
   "metadata": {},
   "outputs": [
    {
     "data": {
      "text/plain": [
       "Array[org.apache.spark.graphx.Edge[String]] = Array(Edge(1,2,is-friends-with), Edge(2,3,is-friends-with), Edge(3,4,is-friends-with), Edge(4,5,Likes-status), Edge(3,5,Wrote-status))\n"
      ]
     },
     "execution_count": 13,
     "metadata": {},
     "output_type": "execute_result"
    }
   ],
   "source": [
    "initialGraph.edges.collect"
   ]
  },
  {
   "cell_type": "code",
   "execution_count": 10,
   "id": "406afb8a",
   "metadata": {},
   "outputs": [
    {
     "data": {
      "text/plain": [
       "Array[(org.apache.spark.graphx.VertexId, Int)] = Array((1,0), (2,1), (3,2), (4,3), (5,4))\n"
      ]
     },
     "execution_count": 10,
     "metadata": {},
     "output_type": "execute_result"
    }
   ],
   "source": [
    "propagateEdgeCount(initialGraph).vertices.collect"
   ]
  },
  {
   "cell_type": "markdown",
   "id": "031d36db",
   "metadata": {},
   "source": [
    "# Find community"
   ]
  },
  {
   "cell_type": "code",
   "execution_count": 63,
   "id": "baa5a222",
   "metadata": {},
   "outputs": [
    {
     "data": {
      "text/plain": [
       "sendMsg: (ec: org.apache.spark.graphx.EdgeContext[Long,String,Long])Unit\n",
       "mergeMsg: (a: Long, b: Long)Long\n",
       "propagateID: (g: org.apache.spark.graphx.Graph[Long,String])org.apache.spark.graphx.Graph[Long,String]\n"
      ]
     },
     "metadata": {},
     "output_type": "display_data"
    }
   ],
   "source": [
    "def sendMsg(ec: EdgeContext[Long, String, Long]): Unit = {\n",
    "    ec.sendToDst(ec.srcAttr)\n",
    "    println(ec.srcAttr)\n",
    "}\n",
    "\n",
    "def mergeMsg(a: Long, b: Long): Long = {\n",
    "    math.min(a, b)\n",
    "}\n",
    "\n",
    "def propagateID(g:Graph[Long, String]):Graph[Long, String] = {\n",
    "    val verts = g.aggregateMessages[Long](sendMsg, mergeMsg)\n",
    "    val g2 = Graph(verts, g.edges)\n",
    "    val check = g2\n",
    "        .vertices\n",
    "        .join(g.vertices)\n",
    "        .map(x => x._2._1 == x._2._2)\n",
    "        .min == true\n",
    "    if (check) g else propagateID(g2)\n",
    "}"
   ]
  },
  {
   "cell_type": "code",
   "execution_count": 64,
   "id": "b6aa0f46",
   "metadata": {},
   "outputs": [
    {
     "data": {
      "text/plain": [
       "init: org.apache.spark.graphx.Graph[org.apache.spark.graphx.VertexId,String] = org.apache.spark.graphx.impl.GraphImpl@d12f501\n"
      ]
     },
     "metadata": {},
     "output_type": "display_data"
    },
    {
     "data": {
      "text/plain": [
       "Array[(org.apache.spark.graphx.VertexId, org.apache.spark.graphx.VertexId)] = Array((1,1), (2,2), (3,3), (4,4), (5,5))\n"
      ]
     },
     "execution_count": 64,
     "metadata": {},
     "output_type": "execute_result"
    }
   ],
   "source": [
    "val init = myGraph.mapVertices((VertexID, Attr) => VertexID)\n",
    "init.vertices.collect"
   ]
  },
  {
   "cell_type": "code",
   "execution_count": 49,
   "id": "4c9488fd",
   "metadata": {},
   "outputs": [
    {
     "data": {
      "text/plain": [
       "Array[org.apache.spark.graphx.Edge[String]] = Array(Edge(1,2,is-friends-with), Edge(2,3,is-friends-with), Edge(3,4,is-friends-with), Edge(4,5,Likes-status), Edge(3,5,Wrote-status))\n"
      ]
     },
     "execution_count": 49,
     "metadata": {},
     "output_type": "execute_result"
    }
   ],
   "source": [
    "init.edges.collect"
   ]
  },
  {
   "cell_type": "code",
   "execution_count": 47,
   "id": "b0b9416c",
   "metadata": {},
   "outputs": [
    {
     "data": {
      "text/plain": [
       "Array[(org.apache.spark.graphx.VertexId, Long)] = Array((1,0), (2,0), (3,0), (4,0), (5,0))\n"
      ]
     },
     "execution_count": 47,
     "metadata": {},
     "output_type": "execute_result"
    }
   ],
   "source": [
    "propagateID(init).vertices.collect"
   ]
  },
  {
   "cell_type": "markdown",
   "id": "751af5e2",
   "metadata": {},
   "source": [
    "# Round-trip persisting to and reading from file"
   ]
  },
  {
   "cell_type": "code",
   "execution_count": 30,
   "id": "8bdc0b1b",
   "metadata": {},
   "outputs": [
    {
     "ename": "org.apache.hadoop.mapred.FileAlreadyExistsException",
     "evalue": "Output directory hdfs://localhost:9000/user/sergey/myGraphVertices already exists",
     "output_type": "error",
     "traceback": [
      "org.apache.hadoop.mapred.FileAlreadyExistsException: Output directory hdfs://localhost:9000/user/sergey/myGraphVertices already exists",
      "  at org.apache.hadoop.mapred.FileOutputFormat.checkOutputSpecs(FileOutputFormat.java:131)",
      "  at org.apache.spark.internal.io.HadoopMapRedWriteConfigUtil.assertConf(SparkHadoopWriter.scala:299)",
      "  at org.apache.spark.internal.io.SparkHadoopWriter$.write(SparkHadoopWriter.scala:71)",
      "  at org.apache.spark.rdd.PairRDDFunctions.$anonfun$saveAsHadoopDataset$1(PairRDDFunctions.scala:1091)",
      "  at scala.runtime.java8.JFunction0$mcV$sp.apply(JFunction0$mcV$sp.java:23)",
      "  at org.apache.spark.rdd.RDDOperationScope$.withScope(RDDOperationScope.scala:151)",
      "  at org.apache.spark.rdd.RDDOperationScope$.withScope(RDDOperationScope.scala:112)",
      "  at org.apache.spark.rdd.RDD.withScope(RDD.scala:406)",
      "  at org.apache.spark.rdd.PairRDDFunctions.saveAsHadoopDataset(PairRDDFunctions.scala:1089)",
      "  at org.apache.spark.rdd.PairRDDFunctions.$anonfun$saveAsHadoopFile$4(PairRDDFunctions.scala:1062)",
      "  at scala.runtime.java8.JFunction0$mcV$sp.apply(JFunction0$mcV$sp.java:23)",
      "  at org.apache.spark.rdd.RDDOperationScope$.withScope(RDDOperationScope.scala:151)",
      "  at org.apache.spark.rdd.RDDOperationScope$.withScope(RDDOperationScope.scala:112)",
      "  at org.apache.spark.rdd.RDD.withScope(RDD.scala:406)",
      "  at org.apache.spark.rdd.PairRDDFunctions.saveAsHadoopFile(PairRDDFunctions.scala:1027)",
      "  at org.apache.spark.rdd.SequenceFileRDDFunctions.$anonfun$saveAsSequenceFile$1(SequenceFileRDDFunctions.scala:66)",
      "  at scala.runtime.java8.JFunction0$mcV$sp.apply(JFunction0$mcV$sp.java:23)",
      "  at org.apache.spark.rdd.RDDOperationScope$.withScope(RDDOperationScope.scala:151)",
      "  at org.apache.spark.rdd.RDDOperationScope$.withScope(RDDOperationScope.scala:112)",
      "  at org.apache.spark.rdd.RDD.withScope(RDD.scala:406)",
      "  at org.apache.spark.rdd.SequenceFileRDDFunctions.saveAsSequenceFile(SequenceFileRDDFunctions.scala:51)",
      "  at org.apache.spark.rdd.RDD.$anonfun$saveAsObjectFile$1(RDD.scala:1608)",
      "  at scala.runtime.java8.JFunction0$mcV$sp.apply(JFunction0$mcV$sp.java:23)",
      "  at org.apache.spark.rdd.RDDOperationScope$.withScope(RDDOperationScope.scala:151)",
      "  at org.apache.spark.rdd.RDDOperationScope$.withScope(RDDOperationScope.scala:112)",
      "  at org.apache.spark.rdd.RDD.withScope(RDD.scala:406)",
      "  at org.apache.spark.rdd.RDD.saveAsObjectFile(RDD.scala:1608)",
      "  ... 50 elided"
     ]
    }
   ],
   "source": [
    "myGraph.vertices.saveAsObjectFile(\"myGraphVertices\")\n",
    "myGraph.edges.saveAsObjectFile(\"myGraphEdges\")"
   ]
  },
  {
   "cell_type": "code",
   "execution_count": 21,
   "id": "03ddf543",
   "metadata": {},
   "outputs": [
    {
     "name": "stdout",
     "output_type": "stream",
     "text": [
      "Found 6 items\n",
      "drwxr-xr-x   - sergey supergroup          0 2022-11-19 22:39 /user/sergey/audioscrobble\n",
      "drwxr-xr-x   - sergey supergroup          0 2022-11-05 13:04 /user/sergey/categories\n",
      "drwxr-xr-x   - sergey supergroup          0 2022-11-05 12:55 /user/sergey/clickstream\n",
      "drwxr-xr-x   - sergey supergroup          0 2022-11-12 15:06 /user/sergey/linkage\n",
      "drwxr-xr-x   - sergey supergroup          0 2023-02-25 17:21 /user/sergey/myGraphVertices\n",
      "drwxr-xr-x   - sergey supergroup          0 2022-11-05 13:00 /user/sergey/regions\n"
     ]
    },
    {
     "data": {
      "text/plain": [
       "warning: one feature warning; for details, enable `:setting -feature' or `:replay -feature'\n"
      ]
     },
     "metadata": {},
     "output_type": "display_data"
    },
    {
     "data": {
      "text/plain": [
       "Int = 0\n"
      ]
     },
     "execution_count": 21,
     "metadata": {},
     "output_type": "execute_result"
    }
   ],
   "source": [
    "import scala.sys.process._\n",
    "\n",
    "\"hdfs dfs -ls /user/sergey\" !"
   ]
  },
  {
   "cell_type": "markdown",
   "id": "6b49bc37",
   "metadata": {},
   "source": [
    "# Pregel\n",
    "\n",
    "```\n",
    "def pregel[A](\n",
    "    initialMsg: A,\n",
    "    maxIter: Int = Int.MaxValue,\n",
    "    activeDir: EdgeDirection = EdgeDirection.Out)(\n",
    "    vprog: (VertexId, VD, A) => VD,\n",
    "    sendMsg: EdgeTriplet[VD, ED] => Iterator[(VertexId, A)],\n",
    "    mergeMsg: (A, A) => A\n",
    "    ): Graph[VD, ED]\n",
    "```"
   ]
  },
  {
   "cell_type": "code",
   "execution_count": 4,
   "id": "95e1a959",
   "metadata": {},
   "outputs": [
    {
     "data": {
      "text/plain": [
       "g: org.apache.spark.graphx.Graph[Int,String] = org.apache.spark.graphx.impl.GraphImpl@4d3528f5\n"
      ]
     },
     "metadata": {},
     "output_type": "display_data"
    },
    {
     "data": {
      "text/plain": [
       "g: org.apache.spark.graphx.Graph[Int,String] = org.apache.spark.graphx.impl.GraphImpl@4d3528f5\n"
      ]
     },
     "execution_count": 4,
     "metadata": {},
     "output_type": "execute_result"
    }
   ],
   "source": [
    "val g = Pregel(\n",
    "    myGraph.mapVertices((vid,vd) => 0), \n",
    "    0, \n",
    "    activeDirection = EdgeDirection.Out\n",
    ")(\n",
    "    (id: VertexId, vd:Int, a:Int) => math.max(vd, a),\n",
    "    (et: EdgeTriplet[Int, String]) => Iterator((et.dstId, et.srcAttr + 1)),\n",
    "    (a:Int, b:Int) => math.max(a, b)\n",
    ")"
   ]
  },
  {
   "cell_type": "code",
   "execution_count": 5,
   "id": "a3262f38",
   "metadata": {},
   "outputs": [
    {
     "data": {
      "text/plain": [
       "Array[(org.apache.spark.graphx.VertexId, Int)] = Array((1,0), (2,1), (3,2), (4,3), (5,4))\n"
      ]
     },
     "execution_count": 5,
     "metadata": {},
     "output_type": "execute_result"
    }
   ],
   "source": [
    "g.vertices.collect"
   ]
  }
 ],
 "metadata": {
  "kernelspec": {
   "display_name": "Apache Toree - Scala",
   "language": "scala",
   "name": "apache_toree_scala"
  },
  "language_info": {
   "codemirror_mode": "text/x-scala",
   "file_extension": ".scala",
   "mimetype": "text/x-scala",
   "name": "scala",
   "pygments_lexer": "scala",
   "version": "2.12.15"
  }
 },
 "nbformat": 4,
 "nbformat_minor": 5
}
