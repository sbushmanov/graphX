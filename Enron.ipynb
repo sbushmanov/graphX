{
 "cells": [
  {
   "cell_type": "code",
   "execution_count": 1,
   "id": "0da56a57",
   "metadata": {},
   "outputs": [],
   "source": [
    "import org.apache.spark.rdd.RDD\n",
    "import org.apache.spark.graphx._\n",
    "import scala.sys.process._"
   ]
  },
  {
   "cell_type": "code",
   "execution_count": 4,
   "id": "36d5b03a",
   "metadata": {},
   "outputs": [
    {
     "name": "stdout",
     "output_type": "stream",
     "text": [
      "# Directed graph (each unordered pair of nodes is saved once): Email-Enron.txt \r\n",
      "# Enron email network (edge indicated that email was exchanged, undirected edges)\r\n",
      "# Nodes: 36692 Edges: 367662\r\n",
      "# FromNodeId\tToNodeId\r\n",
      "0\t1\r\n"
     ]
    },
    {
     "data": {
      "text/plain": [
       "warning: one feature warning; for details, enable `:setting -feature' or `:replay -feature'\n"
      ]
     },
     "metadata": {},
     "output_type": "display_data"
    },
    {
     "data": {
      "text/plain": [
       "0"
      ]
     },
     "execution_count": 4,
     "metadata": {},
     "output_type": "execute_result"
    }
   ],
   "source": [
    "\"head -n5 data/emailEnron.txt\" !"
   ]
  },
  {
   "cell_type": "code",
   "execution_count": 13,
   "id": "7a98e6b3",
   "metadata": {},
   "outputs": [
    {
     "data": {
      "text/plain": [
       "path = file:///home/sergey/Spark_GraphX/data/emailEnron.txt\n",
       "rdd = MapPartitionsRDD[30] at map at <console>:36\n",
       "graph = org.apache.spark.graphx.impl.GraphImpl@3566b93\n"
      ]
     },
     "metadata": {},
     "output_type": "display_data"
    },
    {
     "data": {
      "text/plain": [
       "org.apache.spark.graphx.impl.GraphImpl@3566b93"
      ]
     },
     "execution_count": 13,
     "metadata": {},
     "output_type": "execute_result"
    }
   ],
   "source": [
    "val path = \"file:///home/sergey/Spark_GraphX/data/emailEnron.txt\"\n",
    "val rdd: RDD[(VertexId, VertexId)] = sc.textFile(path).\n",
    "    filter(row => ! row.startsWith(\"#\")).\n",
    "    map{ row =>\n",
    "            val items = row.split(\"\\\\s+\")\n",
    "            (items(0).toLong, items(1).toLong)\n",
    "    }\n",
    "val graph = Graph.fromEdgeTuples(rdd, \"\")"
   ]
  },
  {
   "cell_type": "code",
   "execution_count": 15,
   "id": "fe36d0d9",
   "metadata": {},
   "outputs": [
    {
     "name": "stdout",
     "output_type": "stream",
     "text": [
      "(18624,)\n",
      "(32196,)\n",
      "(32432,)\n"
     ]
    }
   ],
   "source": [
    "graph.vertices.take(3).foreach(println)"
   ]
  },
  {
   "cell_type": "code",
   "execution_count": 16,
   "id": "8f721c39",
   "metadata": {},
   "outputs": [
    {
     "name": "stdout",
     "output_type": "stream",
     "text": [
      "Edge(0,1,1)\n",
      "Edge(1,0,1)\n",
      "Edge(1,2,1)\n"
     ]
    }
   ],
   "source": [
    "graph.edges.take(3).foreach(println)"
   ]
  }
 ],
 "metadata": {
  "kernelspec": {
   "display_name": "Apache Toree - Scala",
   "language": "scala",
   "name": "apache_toree_scala"
  },
  "language_info": {
   "codemirror_mode": "text/x-scala",
   "file_extension": ".scala",
   "mimetype": "text/x-scala",
   "name": "scala",
   "pygments_lexer": "scala",
   "version": "2.12.15"
  }
 },
 "nbformat": 4,
 "nbformat_minor": 5
}
