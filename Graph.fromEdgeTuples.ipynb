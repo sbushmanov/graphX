{
 "cells": [
  {
   "cell_type": "code",
   "execution_count": 1,
   "id": "d02828d7",
   "metadata": {},
   "outputs": [],
   "source": [
    "import org.apache.spark.rdd.RDD\n",
    "import org.apache.spark.graphx._\n",
    "import scala.util.Random\n",
    "\n",
    "spark.version"
   ]
  },
  {
   "cell_type": "code",
   "execution_count": 2,
   "id": "b488e3c8",
   "metadata": {},
   "outputs": [
    {
     "name": "stdout",
     "output_type": "stream",
     "text": [
      "root\n",
      " |-- id_subject: long (nullable = false)\n",
      " |-- id: long (nullable = false)\n",
      "\n"
     ]
    },
    {
     "data": {
      "text/plain": [
       "arr = List((8,4), (3,5), (6,3), (7,7), (2,5), (7,1), (9,2), (7,9), (3,5), (1,7))\n",
       "df = [id_subject: bigint, id: bigint]\n"
      ]
     },
     "metadata": {},
     "output_type": "display_data"
    },
    {
     "data": {
      "text/plain": [
       "[id_subject: bigint, id: bigint]"
      ]
     },
     "execution_count": 2,
     "metadata": {},
     "output_type": "execute_result"
    }
   ],
   "source": [
    "val arr = Seq.fill(10){\n",
    "    ((Random.nextLong % 10).abs, (Random.nextLong % 10).abs)\n",
    "}\n",
    "\n",
    "val df = arr.toDF(\"id_subject\", \"id\")\n",
    "\n",
    "df.printSchema"
   ]
  },
  {
   "cell_type": "code",
   "execution_count": 3,
   "id": "e262343f",
   "metadata": {},
   "outputs": [
    {
     "data": {
      "text/plain": [
       "rdd = MapPartitionsRDD[5] at map at <console>:29\n",
       "graph = org.apache.spark.graphx.impl.GraphImpl@5a3b4b3\n"
      ]
     },
     "metadata": {},
     "output_type": "display_data"
    },
    {
     "data": {
      "text/plain": [
       "org.apache.spark.graphx.impl.GraphImpl@5a3b4b3"
      ]
     },
     "execution_count": 3,
     "metadata": {},
     "output_type": "execute_result"
    }
   ],
   "source": [
    "val rdd: RDD[(VertexId, VertexId)] = df.rdd.map{ row =>\n",
    "    (row.getAs[Long](\"id_subject\"), row.getAs[Long](\"id\"))\n",
    "}\n",
    "\n",
    "val graph: Graph[St] = Graph.fromEdgeTuples(rdd, \"\")"
   ]
  },
  {
   "cell_type": "code",
   "execution_count": 4,
   "id": "fc9b109a",
   "metadata": {},
   "outputs": [
    {
     "name": "stdout",
     "output_type": "stream",
     "text": [
      "+----------+---+\n",
      "|id_subject| id|\n",
      "+----------+---+\n",
      "|         1|  1|\n",
      "|         2|  1|\n",
      "|         3|  1|\n",
      "|         4|  4|\n",
      "|         5|  1|\n",
      "+----------+---+\n",
      "only showing top 5 rows\n",
      "\n"
     ]
    },
    {
     "data": {
      "text/plain": [
       "cc = [id_subject: bigint, id: bigint]\n"
      ]
     },
     "metadata": {},
     "output_type": "display_data"
    },
    {
     "data": {
      "text/plain": [
       "[id_subject: bigint, id: bigint]"
      ]
     },
     "execution_count": 4,
     "metadata": {},
     "output_type": "execute_result"
    }
   ],
   "source": [
    "val cc = graph.\n",
    "    connectedComponents.\n",
    "    vertices.\n",
    "    toDF(\"id_subject\", \"id\")\n",
    "\n",
    "cc.show(5)"
   ]
  },
  {
   "cell_type": "code",
   "execution_count": 7,
   "id": "6383bf7c",
   "metadata": {},
   "outputs": [
    {
     "data": {
      "text/plain": [
       "Array(Edge(8,4,1), Edge(3,5,1), Edge(6,3,1), Edge(7,7,1), Edge(2,5,1), Edge(7,1,1), Edge(9,2,1), Edge(7,9,1), Edge(3,5,1), Edge(1,7,1))"
      ]
     },
     "execution_count": 7,
     "metadata": {},
     "output_type": "execute_result"
    }
   ],
   "source": [
    "graph.edges.collect"
   ]
  }
 ],
 "metadata": {
  "kernelspec": {
   "display_name": "Apache Toree - Scala",
   "language": "scala",
   "name": "apache_toree_scala"
  },
  "language_info": {
   "codemirror_mode": "text/x-scala",
   "file_extension": ".scala",
   "mimetype": "text/x-scala",
   "name": "scala",
   "pygments_lexer": "scala",
   "version": "2.12.15"
  }
 },
 "nbformat": 4,
 "nbformat_minor": 5
}
